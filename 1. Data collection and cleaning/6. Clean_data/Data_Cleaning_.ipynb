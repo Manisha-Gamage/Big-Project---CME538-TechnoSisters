{
 "cells": [
  {
   "cell_type": "markdown",
   "id": "736d9692-796f-412d-9ae3-065db8944a47",
   "metadata": {},
   "source": [
    "# Code for data cleaning and best buffer selection for other amenities\n",
    " "
   ]
  },
  {
   "cell_type": "markdown",
   "id": "cdc5863c-b85d-4c58-b9ab-e00b729b9bf5",
   "metadata": {},
   "source": [
    "## Import libraries"
   ]
  },
  {
   "cell_type": "code",
   "execution_count": null,
   "id": "3a84cd8f-0019-44f9-843e-c7fa4c043daf",
   "metadata": {},
   "outputs": [],
   "source": [
    "import warnings\n",
    "warnings.filterwarnings('ignore')\n",
    "import numpy as np\n",
    "import pandas as pd\n",
    "import matplotlib.pyplot as plt \n",
    "import seaborn as sns\n",
    "import os"
   ]
  },
  {
   "cell_type": "markdown",
   "id": "cc763f5e-6383-42d3-9a84-333639a84569",
   "metadata": {},
   "source": [
    "## Import data"
   ]
  },
  {
   "cell_type": "code",
   "execution_count": null,
   "id": "8284ed73-523c-4767-8a26-8d0b59d7f335",
   "metadata": {},
   "outputs": [],
   "source": [
    "housing_tor = pd.DataFrame(pd.read_csv(\"C:\\\\Users\\\\mahagam3\\\\Documents\\\\CME Course\\\\Regression_model\\\\Regression_House_Pricewiese\\\\Codes_new\\\\Toronto_all_data_To_use.csv\"))\n",
    "housing_tor.head()"
   ]
  },
  {
   "cell_type": "code",
   "execution_count": null,
   "id": "cffbb7ee-cd73-4f9c-9dcb-77921fe7edd4",
   "metadata": {},
   "outputs": [],
   "source": [
    "housing_van = pd.DataFrame(pd.read_csv(\"C:\\\\Users\\\\mahagam3\\\\Documents\\\\CME Course\\\\Regression_model\\\\Regression_House_Pricewiese\\\\Codes_new\\\\Vancouver_all_data_To_use.csv\"))\n",
    "housing_van.head()"
   ]
  },
  {
   "cell_type": "markdown",
   "id": "b8a03bc7-9bbf-440d-b00a-748a1974d5a3",
   "metadata": {},
   "source": [
    "## Data arranging"
   ]
  },
  {
   "cell_type": "code",
   "execution_count": null,
   "id": "0d0c6ae5-0249-4ca1-a103-07af1a6c81cf",
   "metadata": {},
   "outputs": [],
   "source": [
    "\"\"\" Vancouver \"\"\"\n",
    "\n",
    "# Clean the columns to keep only the numeric values: For Price, remove non-numeric characters like '$' and commas\n",
    "housing_van['Price'] = housing_van['Price'].replace({'\\$': '', ',': '', 'C': ''}, regex=True)\n",
    "housing_van['Price'] = pd.to_numeric(housing_van['Price'], errors='coerce')  # Convert to numeric, NaNs for invalid values\n",
    "\n",
    "# Clean Bedrooms: Replace \"studio\" with 0, remove \"bds\" and extract numbers\n",
    "housing_van['Bedrooms'] = housing_van['Bedrooms'].str.lower()  # Convert to lowercase\n",
    "housing_van['Bedrooms'] = housing_van['Bedrooms'].replace({'studio': '0'}, regex=True)\n",
    "housing_van['Bedrooms'] = housing_van['Bedrooms'].str.extract('(\\d+)')  # Extract numeric values\n",
    "housing_van['Bedrooms'] = pd.to_numeric(housing_van['Bedrooms'], errors='coerce')  # Convert to numeric\n",
    "\n",
    "# Clean Bathrooms: Remove non-numeric text including \" ba\", spaces, and variations of \"ba\"\n",
    "housing_van['Bathrooms'] = housing_van['Bathrooms'].str.lower()  # Convert to lowercase\n",
    "housing_van['Bathrooms'] = housing_van['Bathrooms'].replace({'\\s*ba\\s*': '', '\\s+': '', 'ba': ''}, regex=True)  # Remove patterns like \" ba\", spaces, \"ba\"\n",
    "housing_van['Bathrooms'] = pd.to_numeric(housing_van['Bathrooms'], errors='coerce')  # Convert to numeric\n",
    "\n",
    "# Clean Square Footage: Remove 'sqft' and other non-numeric characters\n",
    "housing_van['Square Footage'] = housing_van['Square Footage'].replace({'\\$': '', ',': '', 'sqft': ''}, regex=True)\n",
    "housing_van['Square Footage'] = pd.to_numeric(housing_van['Square Footage'], errors='coerce')  # Convert to numeric\n",
    "\n",
    "# Convert the entire DataFrame to lowercase\n",
    "housing_van = housing_van.apply(lambda x: x.str.lower() if x.dtype == 'object' else x)\n",
    "\n",
    "# Convert column headers to lowercase\n",
    "housing_van.columns = housing_van.columns.str.lower()\n",
    "housing_van.head()  # Display the head of the new DataFrame\n"
   ]
  },
  {
   "cell_type": "code",
   "execution_count": null,
   "id": "5242922e-2cd4-49ee-9c01-48d3940bf5ee",
   "metadata": {},
   "outputs": [],
   "source": [
    "\"\"\" Toronto \"\"\"\n",
    "\n",
    "# Clean the columns to keep only the numeric values: For Price, remove non-numeric characters like '$' and commas\n",
    "housing_tor['Price'] = housing_tor['Price'].replace({'\\$': '', ',': '', 'C': ''}, regex=True)\n",
    "housing_tor['Price'] = pd.to_numeric(housing_tor['Price'], errors='coerce')  # Convert to numeric, NaNs for invalid values\n",
    "\n",
    "# Clean Bedrooms: Replace \"studio\" with 0 and extract numbers, removing other non-numeric text (\" bds\")\n",
    "housing_tor['Bedrooms'] = housing_tor['Bedrooms'].str.lower()  # Convert to lowercase\n",
    "housing_tor['Bedrooms'] = housing_tor['Bedrooms'].replace({'studio': '0'}, regex=True)\n",
    "housing_tor['Bedrooms'] = housing_tor['Bedrooms'].str.extract('(\\d+)', expand=False)  # Extract the number part\n",
    "housing_tor['Bedrooms'] = pd.to_numeric(housing_tor['Bedrooms'], errors='coerce')  # Convert to numeric\n",
    "\n",
    "# Clean Bathrooms by removing non-numeric text (\" ba\")\n",
    "housing_tor['Bathrooms'] = housing_tor['Bathrooms'].str.lower()  # Convert to lowercase\n",
    "housing_tor['Bathrooms'] = housing_tor['Bathrooms'].replace({'\\sba': '', '\\s+': ''}, regex=True)\n",
    "housing_tor['Bathrooms'] = pd.to_numeric(housing_tor['Bathrooms'], errors='coerce')  # Convert to numeric\n",
    "\n",
    "# Clean Square Footage: Remove 'sqft' and other non-numeric characters\n",
    "housing_tor['Square Footage'] = housing_tor['Square Footage'].replace({'\\$': '', ',': '', 'sqft': ''}, regex=True)\n",
    "housing_tor['Square Footage'] = pd.to_numeric(housing_tor['Square Footage'], errors='coerce')  # Convert to numeric\n",
    "\n",
    "# Convert the entire DataFrame to lowercase\n",
    "housing_tor = housing_tor.apply(lambda x: x.str.lower() if x.dtype == 'object' else x)\n",
    "\n",
    "# Convert column headers to lowercase\n",
    "housing_tor.columns = housing_tor.columns.str.lower()\n",
    "housing_tor.head() # Display the head of the new DataFrame"
   ]
  },
  {
   "cell_type": "markdown",
   "id": "caf95c9b-38cf-4753-8839-117d1e1cf58e",
   "metadata": {},
   "source": [
    "# Inspect the data - Vancouver"
   ]
  },
  {
   "cell_type": "code",
   "execution_count": null,
   "id": "2b386806-3453-4380-aa7a-3aae78cd0fc6",
   "metadata": {},
   "outputs": [],
   "source": [
    "housing_van.shape"
   ]
  },
  {
   "cell_type": "code",
   "execution_count": null,
   "id": "3162053a-4d6f-40f8-a848-488a2eec0827",
   "metadata": {},
   "outputs": [],
   "source": [
    "housing_van.info()"
   ]
  },
  {
   "cell_type": "markdown",
   "id": "613976ef-aba4-4cdc-974d-f5af946fae85",
   "metadata": {},
   "source": [
    "It can be seen that the bathrooms and square foot has less values compared to the other entries. The Square foot has missing values dominates, therefore the column can be dropped. On the other hand, the missing bathroom values can be filled with median imputation."
   ]
  },
  {
   "cell_type": "code",
   "execution_count": null,
   "id": "9c99b122-c93f-4724-b7b1-400f2fee379a",
   "metadata": {},
   "outputs": [],
   "source": [
    "# Fill missing values with the median\n",
    "median_bathrooms_van = housing_van['bathrooms'].median()\n",
    "housing_van['bathrooms'].fillna(median_bathrooms_van, inplace=True)\n",
    "\n",
    "# drop square foot column\n",
    "housing_van.drop(columns=['square footage'], inplace=True)\n",
    "housing_van.info()"
   ]
  },
  {
   "cell_type": "code",
   "execution_count": null,
   "id": "75fb42ef-ef49-4b47-be3d-b6bb3144c187",
   "metadata": {},
   "outputs": [],
   "source": [
    "housing_van.describe()"
   ]
  },
  {
   "cell_type": "markdown",
   "id": "883a4c05-01df-49c7-9eab-b8d3ed030f13",
   "metadata": {},
   "source": [
    "# Inspect the data - Toronto"
   ]
  },
  {
   "cell_type": "code",
   "execution_count": null,
   "id": "e89e4e22-8478-4603-baae-3bdf0ec2dca8",
   "metadata": {},
   "outputs": [],
   "source": [
    "housing_tor.shape"
   ]
  },
  {
   "cell_type": "code",
   "execution_count": null,
   "id": "e9fc1cd5-5798-4e29-9351-dc9a6273695b",
   "metadata": {},
   "outputs": [],
   "source": [
    "housing_tor.info()"
   ]
  },
  {
   "cell_type": "markdown",
   "id": "f4a91d3b-bd18-4624-b412-d0bb513445d1",
   "metadata": {},
   "source": [
    "Similar observation for bathrooms and square foot can be observed for toronto. Thereofre the median imputation is conducted for bathrooms and the squre foot column is dropped"
   ]
  },
  {
   "cell_type": "code",
   "execution_count": null,
   "id": "40b44a52-b95d-4027-9e08-da822e51553e",
   "metadata": {},
   "outputs": [],
   "source": [
    "# Fill missing values with the median\n",
    "median_bathrooms_tor = housing_tor['bathrooms'].median()\n",
    "housing_tor['bathrooms'].fillna(median_bathrooms_tor, inplace=True)\n",
    "\n",
    "# drop square foot column\n",
    "housing_tor.drop(columns=['square footage'], inplace=True)\n",
    "housing_tor.info()"
   ]
  },
  {
   "cell_type": "markdown",
   "id": "3b1572e6-abea-4ad3-bf68-0f2324fcf81d",
   "metadata": {},
   "source": [
    "# Find best buffers for other amenities\n",
    " ## *Determine the Best Buffer for Each Category*\n",
    "-------------------------------------------\n",
    "*the best buffer size (e.g., area_0.5, area_1.0, area_1.5) for each category (e.g., Hospital, School, Bus Stop, etc.) based on the highest count of facilities in each buffer range.*\n",
    "\n",
    " *1. For each category (e.g., Hospital), it compares the counts across the three buffer columns.*\n",
    " \n",
    " *2. It selects the buffer column with the highest count as the \"best\" buffer for that category.*"
   ]
  },
  {
   "cell_type": "code",
   "execution_count": null,
   "id": "cb42b8c8-bc3b-4526-9f0c-0d87a5bb308d",
   "metadata": {},
   "outputs": [],
   "source": [
    "# List of all categories based on the csv headers\n",
    "categories = [\n",
    "    'Hospital', 'Railway Station', 'School',\n",
    "    'Supermarket', 'Bus Stop', 'Pub', 'Restaurant', 'Cafe',\n",
    "    'Dentist', 'Fast Food', 'Kindergartens', 'Malls', 'Play Ground',\n",
    "    'Park', 'Post Office'\n",
    "]\n",
    "\n",
    "# Define the buffer sizes \n",
    "buffer_sizes = ['area_0.5', 'area_1.0', 'area_1.5']"
   ]
  },
  {
   "cell_type": "code",
   "execution_count": null,
   "id": "5ec7aa98-cc56-4f59-98d0-45a575e84c7d",
   "metadata": {},
   "outputs": [],
   "source": [
    "\"\"\" Vancouver \"\"\"\n",
    "\n",
    "# Create a dictionary to store the best buffer for each category\n",
    "best_buffers_van = {}\n",
    "\n",
    "# Iterate over each category\n",
    "for category in categories:\n",
    "    # For each category, create a list of the corresponding buffer columns\n",
    "    category_columns = [f'{category.lower()} in {buffer}' for buffer in buffer_sizes]\n",
    "    \n",
    "    # Ensure the columns exist in the DataFrame\n",
    "    if all(col in housing_van.columns for col in category_columns):\n",
    "        # Find the buffer with the maximum value for this category\n",
    "        max_column = housing_van[category_columns].idxmax(axis=1).iloc[0]\n",
    "        \n",
    "        # Extract the buffer size from the column name\n",
    "        best_buffer = max_column.split()[-1]\n",
    "        \n",
    "        # Store the best buffer for this category in the dictionary\n",
    "        best_buffers_van[category] = best_buffer\n",
    "        \n",
    "        # Get the column corresponding to the best buffer\n",
    "        best_buffer_column = f'{category.lower()} in {best_buffer}'\n",
    "        \n",
    "        # Create the new column name with buffer size (e.g., \"restaurant_best_buffer_1.5_values\")\n",
    "        new_column_name = f'{category.lower()}_best_buffer_{best_buffer}_values'\n",
    "        \n",
    "        # Add the values of the best buffer column to the housing_van DataFrame with the new name\n",
    "        housing_van[new_column_name] = housing_van[best_buffer_column]"
   ]
  },
  {
   "cell_type": "code",
   "execution_count": null,
   "id": "e27ac25b-39f6-4dfe-9078-86e49db8bbbb",
   "metadata": {},
   "outputs": [],
   "source": [
    "\"\"\" Toronto \"\"\"\n",
    "\n",
    "# Create a dictionary to store the best buffer for each category\n",
    "best_buffers_tor = {}\n",
    "\n",
    "# Iterate over each category\n",
    "for category in categories:\n",
    "    # For each category, create a list of the corresponding buffer columns\n",
    "    category_columns = [f'{category.lower()} in {buffer}' for buffer in buffer_sizes]\n",
    "    \n",
    "    # Ensure the columns exist in the DataFrame\n",
    "    if all(col in housing_tor.columns for col in category_columns):\n",
    "        # Find the buffer with the maximum value for this category\n",
    "        max_column = housing_tor[category_columns].idxmax(axis=1).iloc[0]\n",
    "        \n",
    "        # Extract the buffer size from the column name\n",
    "        best_buffer = max_column.split()[-1]\n",
    "        \n",
    "        # Store the best buffer for this category in the dictionary\n",
    "        best_buffers_tor[category] = best_buffer\n",
    "        \n",
    "        # Get the column corresponding to the best buffer\n",
    "        best_buffer_column = f'{category.lower()} in {best_buffer}'\n",
    "        \n",
    "        # Create the new column name with buffer size (e.g., \"post office_best_buffer_1.5_values\")\n",
    "        new_column_name = f'{category.lower()}_best_buffer_{best_buffer}_values'\n",
    "        \n",
    "        # Add the values of the best buffer column to the housing_tor DataFrame with the new name\n",
    "        housing_tor[new_column_name] = housing_tor[best_buffer_column]"
   ]
  },
  {
   "cell_type": "markdown",
   "id": "ddfc3bba-9c88-4c8e-883a-dfbfea7ec99c",
   "metadata": {},
   "source": [
    "## Remove the exisisting other amenity buffers from the dataset and replace with best buffers "
   ]
  },
  {
   "cell_type": "code",
   "execution_count": null,
   "id": "ef0126e2-0dd9-42d2-a570-2c000499baff",
   "metadata": {},
   "outputs": [],
   "source": [
    "\"\"\" Vancouver \"\"\"\n",
    "\n",
    "# Get all columns that contain the word 'in area'\n",
    "columns_to_remove_van = [col for col in housing_van.columns if 'in area' in col]\n",
    "housing_van = housing_van.drop(columns=columns_to_remove_van) # Drop those columns\n",
    "housing_van.info()"
   ]
  },
  {
   "cell_type": "code",
   "execution_count": null,
   "id": "9e38a275-954c-4d91-b103-3c55f345b776",
   "metadata": {},
   "outputs": [],
   "source": [
    "# Checking Null values\n",
    "housing_van.isnull().sum()*100/housing_van.shape[0] "
   ]
  },
  {
   "cell_type": "code",
   "execution_count": null,
   "id": "ec4542d1-9cfb-4ed5-9a5c-29549afd0692",
   "metadata": {},
   "outputs": [],
   "source": [
    "\"\"\" Toronto \"\"\"\n",
    "\n",
    "# Get all columns that contain the word 'in area'\n",
    "columns_to_remove_tor = [col for col in housing_tor.columns if 'in area' in col]\n",
    "housing_tor = housing_tor.drop(columns=columns_to_remove_tor) # Drop those columns\n",
    "housing_tor.info()"
   ]
  },
  {
   "cell_type": "code",
   "execution_count": null,
   "id": "dff68ee5-6bd4-4a16-b86e-8540ea87dd04",
   "metadata": {},
   "outputs": [],
   "source": [
    "# Checking Null values\n",
    "housing_tor.isnull().sum()*100/housing_tor.shape[0] "
   ]
  },
  {
   "cell_type": "markdown",
   "id": "ef42efd9-c8df-4cab-be15-be724eaa330b",
   "metadata": {},
   "source": [
    "## Save data cleaned with selected buffers"
   ]
  },
  {
   "cell_type": "code",
   "execution_count": null,
   "id": "2acde953-889d-4ddc-b90e-72f7d6827b6e",
   "metadata": {},
   "outputs": [],
   "source": [
    "# Vancouver\n",
    "housing_van.to_csv(\"C:\\\\Users\\\\mahagam3\\\\Documents\\\\CME Course\\\\Regression_model\\\\Regression_House_Pricewiese\\\\Codes_new\\\\housing_van_clean_with_best_buffers_v2.csv\", index=False)\n",
    "\n",
    "# Toronto\n",
    "housing_tor.to_csv(\"C:\\\\Users\\\\mahagam3\\\\Documents\\\\CME Course\\\\Regression_model\\\\Regression_House_Pricewiese\\\\Codes_new\\\\housing_tor_clean_with_best_buffers_v2.csv\", index=False)"
   ]
  },
  {
   "cell_type": "markdown",
   "id": "55413b57-ccc8-4f75-94a7-139114bab49e",
   "metadata": {},
   "source": [
    "               ###################### End of the code for data cleaning and buffer selection #############################"
   ]
  },
  {
   "cell_type": "code",
   "execution_count": null,
   "id": "5fa0c210-c68d-4392-8c26-33205fa38e69",
   "metadata": {},
   "outputs": [],
   "source": []
  }
 ],
 "metadata": {
  "kernelspec": {
   "display_name": "Python 3 (ipykernel)",
   "language": "python",
   "name": "python3"
  },
  "language_info": {
   "codemirror_mode": {
    "name": "ipython",
    "version": 3
   },
   "file_extension": ".py",
   "mimetype": "text/x-python",
   "name": "python",
   "nbconvert_exporter": "python",
   "pygments_lexer": "ipython3",
   "version": "3.12.4"
  }
 },
 "nbformat": 4,
 "nbformat_minor": 5
}
