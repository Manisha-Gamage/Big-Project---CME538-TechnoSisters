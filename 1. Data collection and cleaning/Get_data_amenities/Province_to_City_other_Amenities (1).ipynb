{
 "cells": [
  {
   "cell_type": "markdown",
   "id": "d398c43e-4d99-4a22-9c9e-4f9efe97c0d9",
   "metadata": {},
   "source": [
    "# Extract only Vancouver data\n",
    "\n",
    "This code is to select the amenities only inside the Vancoiver and Toronto boundaries. So filtering is p"
   ]
  },
  {
   "cell_type": "code",
   "execution_count": 83,
   "id": "a245271e-662b-4483-bef4-815854b264ea",
   "metadata": {},
   "outputs": [
    {
     "name": "stdout",
     "output_type": "stream",
     "text": [
      "Filtered data for vancouver has been saved to: E:\\UofT PhD Courses\\Fall 2024\\CME538H1 F LEC0101_Data_Scn_CIVMIN\\Big Project\\Project - Safe and affodable housing\\Data\\Other amenities\\Vancouver\\NEW_van\\van-fast_food.csv\n"
     ]
    }
   ],
   "source": [
    "import pandas as pd\n",
    "import os\n",
    "\n",
    "# # to find the os path \n",
    "# current_path = os.getcwd()\n",
    "# print(\"Current OS Path:\", current_path)\n",
    "\n",
    "# Specify the directory where your CSV file is located\n",
    "directory = \"E:\\\\UofT PhD Courses\\\\Fall 2024\\\\CME538H1 F LEC0101_Data_Scn_CIVMIN\\\\Big Project\\\\Project - Safe and affodable housing\\\\Data\\\\Other amenities\\\\BC-data\\\\CSV from shape files\"  \n",
    "# file_name = \"BC-bus_rail_lat_long.csv\"\n",
    "# file_name = \"BC-cinema_lat_long.csv\" \n",
    "# file_name = \"BC-malls_lat_long.csv\" \n",
    "# file_name = \"BC-parks_lat_long.csv\" \n",
    "# file_name = \"BC-pubs_lat_long.csv\" \n",
    "# file_name = \"BC-Hospitals.csv\" \n",
    "# file_name = \"BC-restaurants_lat_long.csv\" \n",
    "# file_name = \"BC-schools_uni_colleages_lat_long.csv\" \n",
    "# file_name = \"BC-supermarkets_lat_long.csv\" \n",
    "# file_name = \"BC-cafe_lat_long.csv\" \n",
    "# file_name = \"BC-play_grounds_lat_long.csv\" \n",
    "# file_name = \"BC-kindergartens_lat_long.csv\" \n",
    "# file_name = \"BC-post_office2_lat_long.csv\" \n",
    "# file_name = \"BC-dentist_lat_long.csv\" \n",
    "file_name = \"BC-fast_food_lat_long.csv\" \n",
    "\n",
    "# Construct the full file path\n",
    "file_path = os.path.join(directory, file_name)\n",
    "\n",
    "# Load your CSV file\n",
    "data = pd.read_csv(file_path)\n",
    "\n",
    "# Define Vancouver bounding box: taken from https://www.geonames.org/search.html?q=&country=CA\n",
    "lat_min, lat_max = 48.5, 49.7  # Expanded further south and north\n",
    "lon_min, lon_max = -123.7, -122.5  # Expanded further west and east\n",
    "\n",
    "# Filter rows within Vancouver's bounding box\n",
    "toronto_data = data[(data['Latitude'] >= lat_min) & (data['Latitude'] <= lat_max) &\n",
    "                      (data['Longitude'] >= lon_min) & (data['Longitude'] <= lon_max)]\n",
    "\n",
    "# Save or display the filtered data\n",
    "# output_file_path = (\"E:\\\\UofT PhD Courses\\\\Fall 2024\\\\CME538H1 F LEC0101_Data_Scn_CIVMIN\\\\Big Project\\\\Project - Safe and affodable housing\\\\Data\\\\Other amenities\\\\Vancouver\\\\NEW_van\\\\van-bus_rail.csv\")  \n",
    "# output_file_path = (\"E:\\\\UofT PhD Courses\\\\Fall 2024\\\\CME538H1 F LEC0101_Data_Scn_CIVMIN\\\\Big Project\\\\Project - Safe and affodable housing\\\\Data\\\\Other amenities\\\\Vancouver\\\\NEW_van\\\\van-cinema.csv\")  \n",
    "# output_file_path = (\"E:\\\\UofT PhD Courses\\\\Fall 2024\\\\CME538H1 F LEC0101_Data_Scn_CIVMIN\\\\Big Project\\\\Project - Safe and affodable housing\\\\Data\\\\Other amenities\\\\Vancouver\\\\NEW_van\\\\van-malls.csv\")  \n",
    "# output_file_path = (\"E:\\\\UofT PhD Courses\\\\Fall 2024\\\\CME538H1 F LEC0101_Data_Scn_CIVMIN\\\\Big Project\\\\Project - Safe and affodable housing\\\\Data\\\\Other amenities\\\\Vancouver\\\\NEW_van\\\\van-parks.csv\")  \n",
    "# output_file_path = (\"E:\\\\UofT PhD Courses\\\\Fall 2024\\\\CME538H1 F LEC0101_Data_Scn_CIVMIN\\\\Big Project\\\\Project - Safe and affodable housing\\\\Data\\\\Other amenities\\\\Vancouver\\\\NEW_van\\\\van-pubs.csv\")  \n",
    "# output_file_path = (\"E:\\\\UofT PhD Courses\\\\Fall 2024\\\\CME538H1 F LEC0101_Data_Scn_CIVMIN\\\\Big Project\\\\Project - Safe and affodable housing\\\\Data\\\\Other amenities\\\\Vancouver\\\\NEW_van\\\\van-Hospitals.csv\")  \n",
    "# output_file_path = (\"E:\\\\UofT PhD Courses\\\\Fall 2024\\\\CME538H1 F LEC0101_Data_Scn_CIVMIN\\\\Big Project\\\\Project - Safe and affodable housing\\\\Data\\\\Other amenities\\\\Vancouver\\\\NEW_van\\\\van-restaurants.csv\")  \n",
    "# output_file_path = (\"E:\\\\UofT PhD Courses\\\\Fall 2024\\\\CME538H1 F LEC0101_Data_Scn_CIVMIN\\\\Big Project\\\\Project - Safe and affodable housing\\\\Data\\\\Other amenities\\\\Vancouver\\\\NEW_van\\\\van-schools_uni_colleages.csv\")  \n",
    "# output_file_path = (\"E:\\\\UofT PhD Courses\\\\Fall 2024\\\\CME538H1 F LEC0101_Data_Scn_CIVMIN\\\\Big Project\\\\Project - Safe and affodable housing\\\\Data\\\\Other amenities\\\\Vancouver\\\\NEW_van\\\\van-supermarkets.csv\") \n",
    "# output_file_path = (\"E:\\\\UofT PhD Courses\\\\Fall 2024\\\\CME538H1 F LEC0101_Data_Scn_CIVMIN\\\\Big Project\\\\Project - Safe and affodable housing\\\\Data\\\\Other amenities\\\\Vancouver\\\\NEW_van\\\\van-cafe.csv\")  \n",
    "# output_file_path = (\"E:\\\\UofT PhD Courses\\\\Fall 2024\\\\CME538H1 F LEC0101_Data_Scn_CIVMIN\\\\Big Project\\\\Project - Safe and affodable housing\\\\Data\\\\Other amenities\\\\Vancouver\\\\NEW_van\\\\van-paly_grounds.csv\")  \n",
    "# output_file_path = (\"E:\\\\UofT PhD Courses\\\\Fall 2024\\\\CME538H1 F LEC0101_Data_Scn_CIVMIN\\\\Big Project\\\\Project - Safe and affodable housing\\\\Data\\\\Other amenities\\\\Vancouver\\\\NEW_van\\\\van-kindergartens.csv\")  \n",
    "# output_file_path = (\"E:\\\\UofT PhD Courses\\\\Fall 2024\\\\CME538H1 F LEC0101_Data_Scn_CIVMIN\\\\Big Project\\\\Project - Safe and affodable housing\\\\Data\\\\Other amenities\\\\Vancouver\\\\NEW_van\\\\van-post_office2.csv\")  \n",
    "# output_file_path = (\"E:\\\\UofT PhD Courses\\\\Fall 2024\\\\CME538H1 F LEC0101_Data_Scn_CIVMIN\\\\Big Project\\\\Project - Safe and affodable housing\\\\Data\\\\Other amenities\\\\Vancouver\\\\NEW_van\\\\van-dentist.csv\")  \n",
    "output_file_path = (\"E:\\\\UofT PhD Courses\\\\Fall 2024\\\\CME538H1 F LEC0101_Data_Scn_CIVMIN\\\\Big Project\\\\Project - Safe and affodable housing\\\\Data\\\\Other amenities\\\\Vancouver\\\\NEW_van\\\\van-fast_food.csv\")  \n",
    "\n",
    "\n",
    "toronto_data.to_csv(output_file_path, index=False)\n",
    "# print(vancouver_data)\n",
    "print(f\"Filtered data for vancouver has been saved to: {output_file_path}\")"
   ]
  },
  {
   "cell_type": "markdown",
   "id": "1853b83c-6f4e-4b53-b4a5-984a8476d52c",
   "metadata": {},
   "source": [
    "# Extract only Toronto data"
   ]
  },
  {
   "cell_type": "code",
   "execution_count": 111,
   "id": "fee0b50b-a306-4fba-8ef0-09ef524b9a3a",
   "metadata": {},
   "outputs": [
    {
     "name": "stdout",
     "output_type": "stream",
     "text": [
      "Filtered data for Toronto has been saved to: E:\\UofT PhD Courses\\Fall 2024\\CME538H1 F LEC0101_Data_Scn_CIVMIN\\Big Project\\Project - Safe and affodable housing\\Data\\Other amenities\\Toronto\\NEW_Toronto\\toronto-fast_food.csv\n"
     ]
    }
   ],
   "source": [
    "import pandas as pd\n",
    "import os\n",
    "\n",
    "# # to find the os path \n",
    "# current_path = os.getcwd()\n",
    "# print(\"Current OS Path:\", current_path)\n",
    "\n",
    "# Specify the directory where your CSV file is located\n",
    "# directory = \"E:\\\\UofT PhD Courses\\\\Fall 2024\\\\CME538H1 F LEC0101_Data_Scn_CIVMIN\\\\Big Project\\\\Project - Safe and affodable housing\\\\Data\\\\Other amenities\\\\ON-data\\\\CSV from shape files\"  \n",
    "directory = \"E:\\\\UofT PhD Courses\\\\Fall 2024\\\\CME538H1 F LEC0101_Data_Scn_CIVMIN\\\\Big Project\\\\Project - Safe and affodable housing\\\\Data\\\\Other amenities\\\\ON-data\\\\CSV from shape files\\\\some_other\"  \n",
    "# file_name = \"ON-bus_rail_lat_long.csv\"\n",
    "# file_name = \"ON-cinema_lat_long.csv\" \n",
    "# file_name = \"ON-malls_lat_long.csv\" \n",
    "# file_name = \"ON-parks_lat_long.csv\" \n",
    "# file_name = \"ON-pubs_lat_long.csv\" \n",
    "# file_name = \"ON-Hospitals.csv\" \n",
    "# file_name = \"ON-restaurants_lat_long.csv\" \n",
    "# file_name = \"ON-schools_uni_colleages_lat_long.csv\" \n",
    "# file_name = \"ON-supermarkets_lat_long.csv\" \n",
    "# file_name = \"ON-cafe_lat_long.csv\" \n",
    "# file_name = \"ON-play_grounds_lat_long.csv\" \n",
    "# file_name = \"ON-kindergartens_lat_long.csv\" \n",
    "# file_name = \"ON-post_office_lat_long.csv\" \n",
    "# file_name = \"ON-dentist_lat_long.csv\" \n",
    "file_name = \"ON-fast_food_lat_long.csv\" \n",
    "\n",
    "# Construct the full file path\n",
    "file_path = os.path.join(directory, file_name)\n",
    "\n",
    "# Load your CSV file\n",
    "data = pd.read_csv(file_path)\n",
    "\n",
    "# Define Vancouver bounding box: taken from https://www.geonames.org/search.html?q=&country=CA\n",
    "lat_min, lat_max = 43.5, 43.8\n",
    "lon_min, lon_max = -79.75, -79.1 \n",
    "\n",
    "# Filter rows within Vancouver's bounding box\n",
    "toronto_data = data[(data['Latitude'] >= lat_min) & (data['Latitude'] <= lat_max) &\n",
    "                      (data['Longitude'] >= lon_min) & (data['Longitude'] <= lon_max)]\n",
    "\n",
    "# Save or display the filtered data\n",
    "# output_file_path = (\"E:\\\\UofT PhD Courses\\\\Fall 2024\\\\CME538H1 F LEC0101_Data_Scn_CIVMIN\\\\Big Project\\\\Project - Safe and affodable housing\\\\Data\\\\Other amenities\\\\Toronto\\\\NEW_Toronto\\\\toronto-bus_rail.csv\")  \n",
    "# output_file_path = (\"E:\\\\UofT PhD Courses\\\\Fall 2024\\\\CME538H1 F LEC0101_Data_Scn_CIVMIN\\\\Big Project\\\\Project - Safe and affodable housing\\\\Data\\\\Other amenities\\\\Toronto\\\\NEW_Toronto\\\\toronto-cinema.csv\")  \n",
    "# output_file_path = (\"E:\\\\UofT PhD Courses\\\\Fall 2024\\\\CME538H1 F LEC0101_Data_Scn_CIVMIN\\\\Big Project\\\\Project - Safe and affodable housing\\\\Data\\\\Other amenities\\\\Toronto\\\\NEW_Toronto\\\\toronto-malls.csv\")  \n",
    "# output_file_path = (\"E:\\\\UofT PhD Courses\\\\Fall 2024\\\\CME538H1 F LEC0101_Data_Scn_CIVMIN\\\\Big Project\\\\Project - Safe and affodable housing\\\\Data\\\\Other amenities\\\\Toronto\\\\NEW_Toronto\\\\toronto-parks.csv\")  \n",
    "# output_file_path = (\"E:\\\\UofT PhD Courses\\\\Fall 2024\\\\CME538H1 F LEC0101_Data_Scn_CIVMIN\\\\Big Project\\\\Project - Safe and affodable housing\\\\Data\\\\Other amenities\\\\Toronto\\\\NEW_Toronto\\\\toronto-pubs.csv\")  \n",
    "# output_file_path = (\"E:\\\\UofT PhD Courses\\\\Fall 2024\\\\CME538H1 F LEC0101_Data_Scn_CIVMIN\\\\Big Project\\\\Project - Safe and affodable housing\\\\Data\\\\Other amenities\\\\Toronto\\\\NEW_Toronto\\\\toronto-Hospitals.csv\")  \n",
    "# output_file_path = (\"E:\\\\UofT PhD Courses\\\\Fall 2024\\\\CME538H1 F LEC0101_Data_Scn_CIVMIN\\\\Big Project\\\\Project - Safe and affodable housing\\\\Data\\\\Other amenities\\\\Toronto\\\\NEW_Toronto\\\\toronto-restaurants.csv\")  \n",
    "# output_file_path = (\"E:\\\\UofT PhD Courses\\\\Fall 2024\\\\CME538H1 F LEC0101_Data_Scn_CIVMIN\\\\Big Project\\\\Project - Safe and affodable housing\\\\Data\\\\Other amenities\\\\Toronto\\\\NEW_Toronto\\\\toronto-schools_uni_colleages.csv\")  \n",
    "# output_file_path = (\"E:\\\\UofT PhD Courses\\\\Fall 2024\\\\CME538H1 F LEC0101_Data_Scn_CIVMIN\\\\Big Project\\\\Project - Safe and affodable housing\\\\Data\\\\Other amenities\\\\Toronto\\\\NEW_Toronto\\\\toronto-supermarkets.csv\") \n",
    "# output_file_path = (\"E:\\\\UofT PhD Courses\\\\Fall 2024\\\\CME538H1 F LEC0101_Data_Scn_CIVMIN\\\\Big Project\\\\Project - Safe and affodable housing\\\\Data\\\\Other amenities\\\\Toronto\\\\NEW_Toronto\\\\toronto-cafe.csv\")  \n",
    "# output_file_path = (\"E:\\\\UofT PhD Courses\\\\Fall 2024\\\\CME538H1 F LEC0101_Data_Scn_CIVMIN\\\\Big Project\\\\Project - Safe and affodable housing\\\\Data\\\\Other amenities\\\\Toronto\\\\NEW_Toronto\\\\toronto-paly_grounds.csv\")  \n",
    "# output_file_path = (\"E:\\\\UofT PhD Courses\\\\Fall 2024\\\\CME538H1 F LEC0101_Data_Scn_CIVMIN\\\\Big Project\\\\Project - Safe and affodable housing\\\\Data\\\\Other amenities\\\\Toronto\\\\NEW_Toronto\\\\toronto-kindergartens.csv\")  \n",
    "# output_file_path = (\"E:\\\\UofT PhD Courses\\\\Fall 2024\\\\CME538H1 F LEC0101_Data_Scn_CIVMIN\\\\Big Project\\\\Project - Safe and affodable housing\\\\Data\\\\Other amenities\\\\Toronto\\\\NEW_Toronto\\\\toronto-post_office.csv\")  \n",
    "# output_file_path = (\"E:\\\\UofT PhD Courses\\\\Fall 2024\\\\CME538H1 F LEC0101_Data_Scn_CIVMIN\\\\Big Project\\\\Project - Safe and affodable housing\\\\Data\\\\Other amenities\\\\Toronto\\\\NEW_Toronto\\\\toronto-dentist.csv\")  \n",
    "output_file_path = (\"E:\\\\UofT PhD Courses\\\\Fall 2024\\\\CME538H1 F LEC0101_Data_Scn_CIVMIN\\\\Big Project\\\\Project - Safe and affodable housing\\\\Data\\\\Other amenities\\\\Toronto\\\\NEW_Toronto\\\\toronto-fast_food.csv\")  \n",
    "\n",
    "toronto_data.to_csv(output_file_path, index=False)\n",
    "# print(vancouver_data)\n",
    "print(f\"Filtered data for Toronto has been saved to: {output_file_path}\")"
   ]
  },
  {
   "cell_type": "code",
   "execution_count": null,
   "id": "0ce0564f-243d-40e3-86f6-e6b51f86cfd9",
   "metadata": {},
   "outputs": [],
   "source": []
  }
 ],
 "metadata": {
  "kernelspec": {
   "display_name": "Python 3 (ipykernel)",
   "language": "python",
   "name": "python3"
  },
  "language_info": {
   "codemirror_mode": {
    "name": "ipython",
    "version": 3
   },
   "file_extension": ".py",
   "mimetype": "text/x-python",
   "name": "python",
   "nbconvert_exporter": "python",
   "pygments_lexer": "ipython3",
   "version": "3.12.4"
  }
 },
 "nbformat": 4,
 "nbformat_minor": 5
}
