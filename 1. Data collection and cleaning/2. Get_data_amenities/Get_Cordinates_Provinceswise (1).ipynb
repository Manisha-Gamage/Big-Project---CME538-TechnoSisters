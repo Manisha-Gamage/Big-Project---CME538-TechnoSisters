{
 "cells": [
  {
   "cell_type": "code",
   "execution_count": null,
   "id": "cef85071-c98b-4114-b988-343895020710",
   "metadata": {},
   "outputs": [],
   "source": [
    "pip install geopandas"
   ]
  },
  {
   "cell_type": "markdown",
   "id": "a1ec04b4-89db-4a31-8b84-2efea09e6cac",
   "metadata": {},
   "source": [
    "# This code will save the information of the shape files to csv files for further analysis and to add to the final feature matrix"
   ]
  },
  {
   "cell_type": "markdown",
   "id": "57941725-63bc-4dc7-b599-7e0e039970a0",
   "metadata": {
    "jp-MarkdownHeadingCollapsed": true
   },
   "source": [
    "# Bus and rail stops"
   ]
  },
  {
   "cell_type": "code",
   "execution_count": null,
   "id": "de4cd4af-1aef-4213-b293-9c6e27f5c6a3",
   "metadata": {},
   "outputs": [],
   "source": [
    "import geopandas as gpd\n",
    "\n",
    "# Load the shapefile\n",
    "\"\"\"\n",
    "This is for the buildings shape file\n",
    "\"\"\"\n",
    "shapefile_path = \"E:\\\\UofT PhD Courses\\\\Fall 2024\\\\CME538H1 F LEC0101_Data_Scn_CIVMIN\\\\Big Project\\\\Project - Safe and affodable housing\\\\Data\\\\Other amenities\\\\BC-data\\\\shape_files\\\\BC-bus_rail_stops.shp\"\n",
    "gdf = gpd.read_file(shapefile_path)\n",
    "\n",
    "# Check the geometry type to handle it accordingly\n",
    "if gdf.geometry.iloc[0].geom_type == 'Polygon':\n",
    "    # For polygons, use centroid to get lat/long\n",
    "    gdf['Latitude'] = gdf.geometry.centroid.y\n",
    "    gdf['Longitude'] = gdf.geometry.centroid.x\n",
    "else:\n",
    "    # For points, use the x and y coordinates directly\n",
    "    gdf['Latitude'] = gdf.geometry.y\n",
    "    gdf['Longitude'] = gdf.geometry.x\n",
    "\n",
    "# Display the DataFrame with all columns including the new lat/long columns\n",
    "# print(gdf)\n",
    "\n",
    "# Save to CSV including all original columns and the new latitude and longitude columns\n",
    "output_csv = \"E:\\\\UofT PhD Courses\\\\Fall 2024\\\\CME538H1 F LEC0101_Data_Scn_CIVMIN\\\\Big Project\\\\Project - Safe and affodable housing\\\\Data\\\\Other amenities\\\\BC-data\\\\CSV from shape files\\\\BC-bus_rail_lat_long.csv\" # Buildings\n",
    "gdf.to_csv(output_csv, index=False)\n",
    "\n",
    "# Print confirmation message\n",
    "print(f\"CSV file saved successfully as {output_csv}\")"
   ]
  },
  {
   "cell_type": "markdown",
   "id": "d3f4407d-e6f2-4e41-a6ee-dff53fe06499",
   "metadata": {
    "jp-MarkdownHeadingCollapsed": true
   },
   "source": [
    "# Schools"
   ]
  },
  {
   "cell_type": "code",
   "execution_count": null,
   "id": "73c83f46-f147-4004-a818-5a2a94dd7b42",
   "metadata": {},
   "outputs": [],
   "source": [
    "import geopandas as gpd\n",
    "\n",
    "# Load the shapefile\n",
    "\"\"\"\n",
    "This is for the buildings shape file\n",
    "\"\"\"\n",
    "shapefile_path = \"E:\\\\UofT PhD Courses\\\\Fall 2024\\\\CME538H1 F LEC0101_Data_Scn_CIVMIN\\\\Big Project\\\\Project - Safe and affodable housing\\\\Data\\\\Other amenities\\\\BC-data\\\\shape_files\\\\BC-schools_uni_colleages.shp\"\n",
    "gdf = gpd.read_file(shapefile_path)\n",
    "\n",
    "# Check the geometry type to handle it accordingly\n",
    "if gdf.geometry.iloc[0].geom_type == 'Polygon':\n",
    "    # For polygons, use centroid to get lat/long\n",
    "    gdf['Latitude'] = gdf.geometry.centroid.y\n",
    "    gdf['Longitude'] = gdf.geometry.centroid.x\n",
    "else:\n",
    "    # For points, use the x and y coordinates directly\n",
    "    gdf['Latitude'] = gdf.geometry.y\n",
    "    gdf['Longitude'] = gdf.geometry.x\n",
    "\n",
    "# Display the DataFrame with all columns including the new lat/long columns\n",
    "# print(gdf)\n",
    "\n",
    "# Save to CSV including all original columns and the new latitude and longitude columns\n",
    "output_csv = \"E:\\\\UofT PhD Courses\\\\Fall 2024\\\\CME538H1 F LEC0101_Data_Scn_CIVMIN\\\\Big Project\\\\Project - Safe and affodable housing\\\\Data\\\\Other amenities\\\\BC-data\\\\CSV from shape files\\\\BC-schools_uni_colleages_lat_long.csv\" # Buildings\n",
    "gdf.to_csv(output_csv, index=False)\n",
    "\n",
    "# Print confirmation message\n",
    "print(f\"CSV file saved successfully as {output_csv}\")"
   ]
  },
  {
   "cell_type": "markdown",
   "id": "89b43070-6c85-4e03-8220-af52d86c9520",
   "metadata": {},
   "source": [
    "# Parks"
   ]
  },
  {
   "cell_type": "code",
   "execution_count": null,
   "id": "7910993b-210c-40a8-92c7-3fd40102bf01",
   "metadata": {},
   "outputs": [],
   "source": [
    "import geopandas as gpd\n",
    "\n",
    "# Load the shapefile\n",
    "\"\"\"\n",
    "This is for the buildings shape file\n",
    "\"\"\"\n",
    "shapefile_path = \"E:\\\\UofT PhD Courses\\\\Fall 2024\\\\CME538H1 F LEC0101_Data_Scn_CIVMIN\\\\Big Project\\\\Project - Safe and affodable housing\\\\Data\\\\Other amenities\\\\ON-data\\\\shape_files\\\\some_other\\\\ON-parks.shp\"\n",
    "gdf = gpd.read_file(shapefile_path)\n",
    "\n",
    "# Check the geometry type to handle it accordingly\n",
    "if gdf.geometry.iloc[0].geom_type == 'Polygon':\n",
    "    # For polygons, use centroid to get lat/long\n",
    "    gdf['Latitude'] = gdf.geometry.centroid.y\n",
    "    gdf['Longitude'] = gdf.geometry.centroid.x\n",
    "else:\n",
    "    # For points, use the x and y coordinates directly\n",
    "    gdf['Latitude'] = gdf.geometry.y\n",
    "    gdf['Longitude'] = gdf.geometry.x\n",
    "\n",
    "# Display the DataFrame with all columns including the new lat/long columns\n",
    "# print(gdf)\n",
    "\n",
    "# Save to CSV including all original columns and the new latitude and longitude columns\n",
    "output_csv = \"E:\\\\UofT PhD Courses\\\\Fall 2024\\\\CME538H1 F LEC0101_Data_Scn_CIVMIN\\\\Big Project\\\\Project - Safe and affodable housing\\\\Data\\\\Other amenities\\\\ON-data\\\\CSV from shape files\\\\some_other\\\\ON-parks_lat_long.csv\" # Buildings\n",
    "gdf.to_csv(output_csv, index=False)\n",
    "\n",
    "# Print confirmation message\n",
    "print(f\"CSV file saved successfully as {output_csv}\")"
   ]
  },
  {
   "cell_type": "markdown",
   "id": "e836adf1-85c3-4450-b484-09caffb6977d",
   "metadata": {},
   "source": [
    "# Supermarktes"
   ]
  },
  {
   "cell_type": "code",
   "execution_count": null,
   "id": "6283b7dd-02ef-473e-ae85-e9ec76e4416d",
   "metadata": {},
   "outputs": [],
   "source": [
    "import geopandas as gpd\n",
    "\n",
    "# Load the shapefile\n",
    "\"\"\"\n",
    "This is for the buildings shape file\n",
    "\"\"\"\n",
    "shapefile_path = \"E:\\\\UofT PhD Courses\\\\Fall 2024\\\\CME538H1 F LEC0101_Data_Scn_CIVMIN\\\\Big Project\\\\Project - Safe and affodable housing\\\\Data\\\\Other amenities\\\\ON-data\\\\shape_files\\\\some_other\\\\ON-supermarkets.shp\"\n",
    "gdf = gpd.read_file(shapefile_path)\n",
    "\n",
    "# Check the geometry type to handle it accordingly\n",
    "if gdf.geometry.iloc[0].geom_type == 'Polygon':\n",
    "    # For polygons, use centroid to get lat/long\n",
    "    gdf['Latitude'] = gdf.geometry.centroid.y\n",
    "    gdf['Longitude'] = gdf.geometry.centroid.x\n",
    "else:\n",
    "    # For points, use the x and y coordinates directly\n",
    "    gdf['Latitude'] = gdf.geometry.y\n",
    "    gdf['Longitude'] = gdf.geometry.x\n",
    "\n",
    "# Display the DataFrame with all columns including the new lat/long columns\n",
    "# print(gdf)\n",
    "\n",
    "# Save to CSV including all original columns and the new latitude and longitude columns\n",
    "output_csv = \"E:\\\\UofT PhD Courses\\\\Fall 2024\\\\CME538H1 F LEC0101_Data_Scn_CIVMIN\\\\Big Project\\\\Project - Safe and affodable housing\\\\Data\\\\Other amenities\\\\ON-data\\\\CSV from shape files\\\\some_other\\\\ON-supermarkets_lat_long.csv\" # Buildings\n",
    "gdf.to_csv(output_csv, index=False)\n",
    "\n",
    "# Print confirmation message\n",
    "print(f\"CSV file saved successfully as {output_csv}\")"
   ]
  },
  {
   "cell_type": "markdown",
   "id": "73799232-bbec-470d-88a1-22aca8567c0f",
   "metadata": {},
   "source": [
    "# Cinema"
   ]
  },
  {
   "cell_type": "code",
   "execution_count": null,
   "id": "493ec588-4d28-4a2d-a8fb-527240fb1f8e",
   "metadata": {},
   "outputs": [],
   "source": [
    "import geopandas as gpd\n",
    "\n",
    "# Load the shapefile\n",
    "\"\"\"\n",
    "This is for the buildings shape file\n",
    "\"\"\"\n",
    "shapefile_path = \"E:\\\\UofT PhD Courses\\\\Fall 2024\\\\CME538H1 F LEC0101_Data_Scn_CIVMIN\\\\Big Project\\\\Project - Safe and affodable housing\\\\Data\\\\Other amenities\\\\ON-data\\\\shape_files\\\\some_other\\\\ON-cinema.shp\"\n",
    "gdf = gpd.read_file(shapefile_path)\n",
    "\n",
    "# Check the geometry type to handle it accordingly\n",
    "if gdf.geometry.iloc[0].geom_type == 'Polygon':\n",
    "    # For polygons, use centroid to get lat/long\n",
    "    gdf['Latitude'] = gdf.geometry.centroid.y\n",
    "    gdf['Longitude'] = gdf.geometry.centroid.x\n",
    "else:\n",
    "    # For points, use the x and y coordinates directly\n",
    "    gdf['Latitude'] = gdf.geometry.y\n",
    "    gdf['Longitude'] = gdf.geometry.x\n",
    "\n",
    "# Display the DataFrame with all columns including the new lat/long columns\n",
    "# print(gdf)\n",
    "\n",
    "# Save to CSV including all original columns and the new latitude and longitude columns\n",
    "output_csv = \"E:\\\\UofT PhD Courses\\\\Fall 2024\\\\CME538H1 F LEC0101_Data_Scn_CIVMIN\\\\Big Project\\\\Project - Safe and affodable housing\\\\Data\\\\Other amenities\\\\ON-data\\\\CSV from shape files\\\\some_other\\\\ON-cinema_lat_long.csv\" # Buildings\n",
    "gdf.to_csv(output_csv, index=False)\n",
    "\n",
    "# Print confirmation message\n",
    "print(f\"CSV file saved successfully as {output_csv}\")"
   ]
  },
  {
   "cell_type": "markdown",
   "id": "bdae211e-ba76-4a07-b8fb-9562a5b297ec",
   "metadata": {},
   "source": [
    "# Pubs"
   ]
  },
  {
   "cell_type": "code",
   "execution_count": null,
   "id": "d706db22-ad4f-4ec0-9e29-59a30db53741",
   "metadata": {},
   "outputs": [],
   "source": [
    "import geopandas as gpd\n",
    "\n",
    "# Load the shapefile\n",
    "\"\"\"\n",
    "This is for the buildings shape file\n",
    "\"\"\"\n",
    "shapefile_path = \"E:\\\\UofT PhD Courses\\\\Fall 2024\\\\CME538H1 F LEC0101_Data_Scn_CIVMIN\\\\Big Project\\\\Project - Safe and affodable housing\\\\Data\\\\Other amenities\\\\ON-data\\\\shape_files\\\\some_other\\\\ON-pubs.shp\"\n",
    "gdf = gpd.read_file(shapefile_path)\n",
    "\n",
    "# Check the geometry type to handle it accordingly\n",
    "if gdf.geometry.iloc[0].geom_type == 'Polygon':\n",
    "    # For polygons, use centroid to get lat/long\n",
    "    gdf['Latitude'] = gdf.geometry.centroid.y\n",
    "    gdf['Longitude'] = gdf.geometry.centroid.x\n",
    "else:\n",
    "    # For points, use the x and y coordinates directly\n",
    "    gdf['Latitude'] = gdf.geometry.y\n",
    "    gdf['Longitude'] = gdf.geometry.x\n",
    "\n",
    "# Display the DataFrame with all columns including the new lat/long columns\n",
    "# print(gdf)\n",
    "\n",
    "# Save to CSV including all original columns and the new latitude and longitude columns\n",
    "output_csv = \"E:\\\\UofT PhD Courses\\\\Fall 2024\\\\CME538H1 F LEC0101_Data_Scn_CIVMIN\\\\Big Project\\\\Project - Safe and affodable housing\\\\Data\\\\Other amenities\\\\ON-data\\\\CSV from shape files\\\\some_other\\\\ON-pubs_lat_long.csv\" # Buildings\n",
    "gdf.to_csv(output_csv, index=False)\n",
    "\n",
    "# Print confirmation message\n",
    "print(f\"CSV file saved successfully as {output_csv}\")"
   ]
  },
  {
   "cell_type": "markdown",
   "id": "3e9f7d18-dfee-4575-b0d1-d2f027f81189",
   "metadata": {},
   "source": [
    "# Restuarents"
   ]
  },
  {
   "cell_type": "code",
   "execution_count": null,
   "id": "5f2eebb3-39f2-4190-81f3-bcf531aa0728",
   "metadata": {},
   "outputs": [],
   "source": [
    "import geopandas as gpd\n",
    "\n",
    "# Load the shapefile\n",
    "\"\"\"\n",
    "This is for the buildings shape file\n",
    "\"\"\"\n",
    "shapefile_path = \"E:\\\\UofT PhD Courses\\\\Fall 2024\\\\CME538H1 F LEC0101_Data_Scn_CIVMIN\\\\Big Project\\\\Project - Safe and affodable housing\\\\Data\\\\Other amenities\\\\ON-data\\\\shape_files\\\\some_other\\\\ON-restaurants.shp\"\n",
    "gdf = gpd.read_file(shapefile_path)\n",
    "\n",
    "# Check the geometry type to handle it accordingly\n",
    "if gdf.geometry.iloc[0].geom_type == 'Polygon':\n",
    "    # For polygons, use centroid to get lat/long\n",
    "    gdf['Latitude'] = gdf.geometry.centroid.y\n",
    "    gdf['Longitude'] = gdf.geometry.centroid.x\n",
    "else:\n",
    "    # For points, use the x and y coordinates directly\n",
    "    gdf['Latitude'] = gdf.geometry.y\n",
    "    gdf['Longitude'] = gdf.geometry.x\n",
    "\n",
    "# Display the DataFrame with all columns including the new lat/long columns\n",
    "# print(gdf)\n",
    "\n",
    "# Save to CSV including all original columns and the new latitude and longitude columns\n",
    "output_csv = \"E:\\\\UofT PhD Courses\\\\Fall 2024\\\\CME538H1 F LEC0101_Data_Scn_CIVMIN\\\\Big Project\\\\Project - Safe and affodable housing\\\\Data\\\\Other amenities\\\\ON-data\\\\CSV from shape files\\\\some_other\\\\ON-restaurants_lat_long.csv\" # Buildings\n",
    "gdf.to_csv(output_csv, index=False)\n",
    "\n",
    "# Print confirmation message\n",
    "print(f\"CSV file saved successfully as {output_csv}\")"
   ]
  },
  {
   "cell_type": "markdown",
   "id": "b74662fb-1af2-4466-ae22-31d90365ffd0",
   "metadata": {},
   "source": [
    "# malls"
   ]
  },
  {
   "cell_type": "code",
   "execution_count": null,
   "id": "421600e5-6f9a-405c-81b4-38da3edf7620",
   "metadata": {},
   "outputs": [],
   "source": [
    "import geopandas as gpd\n",
    "\n",
    "# Load the shapefile\n",
    "\"\"\"\n",
    "This is for the buildings shape file\n",
    "\"\"\"\n",
    "shapefile_path = \"E:\\\\UofT PhD Courses\\\\Fall 2024\\\\CME538H1 F LEC0101_Data_Scn_CIVMIN\\\\Big Project\\\\Project - Safe and affodable housing\\\\Data\\\\Other amenities\\\\ON-data\\\\shape_files\\\\some_other\\\\ON-malls.shp\"\n",
    "gdf = gpd.read_file(shapefile_path)\n",
    "\n",
    "# Check the geometry type to handle it accordingly\n",
    "if gdf.geometry.iloc[0].geom_type == 'Polygon':\n",
    "    # For polygons, use centroid to get lat/long\n",
    "    gdf['Latitude'] = gdf.geometry.centroid.y\n",
    "    gdf['Longitude'] = gdf.geometry.centroid.x\n",
    "else:\n",
    "    # For points, use the x and y coordinates directly\n",
    "    gdf['Latitude'] = gdf.geometry.y\n",
    "    gdf['Longitude'] = gdf.geometry.x\n",
    "\n",
    "# Display the DataFrame with all columns including the new lat/long columns\n",
    "# print(gdf)\n",
    "\n",
    "# Save to CSV including all original columns and the new latitude and longitude columns\n",
    "output_csv = \"E:\\\\UofT PhD Courses\\\\Fall 2024\\\\CME538H1 F LEC0101_Data_Scn_CIVMIN\\\\Big Project\\\\Project - Safe and affodable housing\\\\Data\\\\Other amenities\\\\ON-data\\\\CSV from shape files\\\\some_other\\\\ON-malls_lat_long.csv\" # Buildings\n",
    "gdf.to_csv(output_csv, index=False)\n",
    "\n",
    "# Print confirmation message\n",
    "print(f\"CSV file saved successfully as {output_csv}\")"
   ]
  },
  {
   "cell_type": "markdown",
   "id": "ce48ab52-9b76-47dd-bd16-33ffc271d309",
   "metadata": {},
   "source": [
    "# Hospitals"
   ]
  },
  {
   "cell_type": "code",
   "execution_count": null,
   "id": "5defb372-1606-40aa-9e33-359b4cf19c01",
   "metadata": {},
   "outputs": [],
   "source": [
    "import geopandas as gpd\n",
    "\n",
    "# Load the shapefile\n",
    "\"\"\"\n",
    "This is for the buildings shape file\n",
    "\"\"\"\n",
    "shapefile_path = \"E:\\\\UofT PhD Courses\\\\Fall 2024\\\\CME538H1 F LEC0101_Data_Scn_CIVMIN\\\\Big Project\\\\Project - Safe and affodable housing\\\\Data\\\\Other amenities\\\\BC-data\\\\shape_files\\\\BC-hospital.shp\"\n",
    "gdf = gpd.read_file(shapefile_path)\n",
    "\n",
    "# Check the geometry type to handle it accordingly\n",
    "if gdf.geometry.iloc[0].geom_type == 'Polygon':\n",
    "    # For polygons, use centroid to get lat/long\n",
    "    gdf['Latitude'] = gdf.geometry.centroid.y\n",
    "    gdf['Longitude'] = gdf.geometry.centroid.x\n",
    "else:\n",
    "    # For points, use the x and y coordinates directly\n",
    "    gdf['Latitude'] = gdf.geometry.y\n",
    "    gdf['Longitude'] = gdf.geometry.x\n",
    "\n",
    "# Display the DataFrame with all columns including the new lat/long columns\n",
    "# print(gdf)\n",
    "\n",
    "# Save to CSV including all original columns and the new latitude and longitude columns\n",
    "output_csv = \"E:\\\\UofT PhD Courses\\\\Fall 2024\\\\CME538H1 F LEC0101_Data_Scn_CIVMIN\\\\Big Project\\\\Project - Safe and affodable housing\\\\Data\\\\Other amenities\\\\BC-data\\\\CSV from shape files\\\\BC-hospitals_lat_long.csv\" # Buildings\n",
    "gdf.to_csv(output_csv, index=False)\n",
    "\n",
    "# Print confirmation message\n",
    "print(f\"CSV file saved successfully as {output_csv}\")"
   ]
  },
  {
   "cell_type": "markdown",
   "id": "837fbd18-4a23-491e-8b22-f3388bbb19bd",
   "metadata": {},
   "source": [
    "# Parks"
   ]
  },
  {
   "cell_type": "code",
   "execution_count": null,
   "id": "85d254fc-508a-4dcb-83be-224f8f94c6c7",
   "metadata": {},
   "outputs": [],
   "source": [
    "import geopandas as gpd\n",
    "\n",
    "# Load the shapefile\n",
    "\"\"\"\n",
    "This is for the buildings shape file\n",
    "\"\"\"\n",
    "shapefile_path = \"E:\\\\UofT PhD Courses\\\\Fall 2024\\\\CME538H1 F LEC0101_Data_Scn_CIVMIN\\\\Big Project\\\\Project - Safe and affodable housing\\\\Data\\\\Other amenities\\\\ON-data\\\\shape_files\\\\some_other\\\\ON-parks.shp\"\n",
    "gdf = gpd.read_file(shapefile_path)\n",
    "\n",
    "# Check the geometry type to handle it accordingly\n",
    "if gdf.geometry.iloc[0].geom_type == 'Polygon':\n",
    "    # For polygons, use centroid to get lat/long\n",
    "    gdf['Latitude'] = gdf.geometry.centroid.y\n",
    "    gdf['Longitude'] = gdf.geometry.centroid.x\n",
    "else:\n",
    "    # For points, use the x and y coordinates directly\n",
    "    gdf['Latitude'] = gdf.geometry.y\n",
    "    gdf['Longitude'] = gdf.geometry.x\n",
    "\n",
    "# Display the DataFrame with all columns including the new lat/long columns\n",
    "# print(gdf)\n",
    "\n",
    "# Save to CSV including all original columns and the new latitude and longitude columns\n",
    "output_csv = \"E:\\\\UofT PhD Courses\\\\Fall 2024\\\\CME538H1 F LEC0101_Data_Scn_CIVMIN\\\\Big Project\\\\Project - Safe and affodable housing\\\\Data\\\\Other amenities\\\\ON-data\\\\CSV from shape files\\\\some_other\\\\ON-parks_lat_long.csv\" # Buildings\n",
    "gdf.to_csv(output_csv, index=False)\n",
    "\n",
    "# Print confirmation message\n",
    "print(f\"CSV file saved successfully as {output_csv}\")"
   ]
  },
  {
   "cell_type": "markdown",
   "id": "5bc49402-7eb3-4c1b-89db-15570e956e18",
   "metadata": {},
   "source": [
    "# Fast food"
   ]
  },
  {
   "cell_type": "code",
   "execution_count": null,
   "id": "29589956-747e-4a22-8d2e-4b0523ed5eae",
   "metadata": {},
   "outputs": [],
   "source": [
    "import geopandas as gpd\n",
    "\n",
    "# Load the shapefile\n",
    "\"\"\"\n",
    "This is for the buildings shape file\n",
    "\"\"\"\n",
    "shapefile_path = \"E:\\\\UofT PhD Courses\\\\Fall 2024\\\\CME538H1 F LEC0101_Data_Scn_CIVMIN\\\\Big Project\\\\Project - Safe and affodable housing\\\\Data\\\\Other amenities\\\\ON-data\\\\shape_files\\\\some_other\\\\ON-fast_food.shp\"\n",
    "gdf = gpd.read_file(shapefile_path)\n",
    "\n",
    "# Check the geometry type to handle it accordingly\n",
    "if gdf.geometry.iloc[0].geom_type == 'Polygon':\n",
    "    # For polygons, use centroid to get lat/long\n",
    "    gdf['Latitude'] = gdf.geometry.centroid.y\n",
    "    gdf['Longitude'] = gdf.geometry.centroid.x\n",
    "else:\n",
    "    # For points, use the x and y coordinates directly\n",
    "    gdf['Latitude'] = gdf.geometry.y\n",
    "    gdf['Longitude'] = gdf.geometry.x\n",
    "\n",
    "# Display the DataFrame with all columns including the new lat/long columns\n",
    "# print(gdf)\n",
    "\n",
    "# Save to CSV including all original columns and the new latitude and longitude columns\n",
    "output_csv = \"E:\\\\UofT PhD Courses\\\\Fall 2024\\\\CME538H1 F LEC0101_Data_Scn_CIVMIN\\\\Big Project\\\\Project - Safe and affodable housing\\\\Data\\\\Other amenities\\\\ON-data\\\\CSV from shape files\\\\some_other\\\\ON-fast_food_lat_long.csv\" # Buildings\n",
    "gdf.to_csv(output_csv, index=False)\n",
    "\n",
    "# Print confirmation message\n",
    "print(f\"CSV file saved successfully as {output_csv}\")"
   ]
  },
  {
   "cell_type": "markdown",
   "id": "ff6a9c19-676e-4c88-9421-d2f7e3c95782",
   "metadata": {},
   "source": [
    "# Cafe"
   ]
  },
  {
   "cell_type": "code",
   "execution_count": null,
   "id": "b5f282f4-40b6-405a-910a-4cdd0dc8b44d",
   "metadata": {},
   "outputs": [],
   "source": [
    "import geopandas as gpd\n",
    "\n",
    "# Load the shapefile\n",
    "\"\"\"\n",
    "This is for the buildings shape file\n",
    "\"\"\"\n",
    "shapefile_path = \"E:\\\\UofT PhD Courses\\\\Fall 2024\\\\CME538H1 F LEC0101_Data_Scn_CIVMIN\\\\Big Project\\\\Project - Safe and affodable housing\\\\Data\\\\Other amenities\\\\ON-data\\\\shape_files\\\\some_other\\\\ON-cafe.shp\"\n",
    "gdf = gpd.read_file(shapefile_path)\n",
    "\n",
    "# Check the geometry type to handle it accordingly\n",
    "if gdf.geometry.iloc[0].geom_type == 'Polygon':\n",
    "    # For polygons, use centroid to get lat/long\n",
    "    gdf['Latitude'] = gdf.geometry.centroid.y\n",
    "    gdf['Longitude'] = gdf.geometry.centroid.x\n",
    "else:\n",
    "    # For points, use the x and y coordinates directly\n",
    "    gdf['Latitude'] = gdf.geometry.y\n",
    "    gdf['Longitude'] = gdf.geometry.x\n",
    "\n",
    "# Display the DataFrame with all columns including the new lat/long columns\n",
    "# print(gdf)\n",
    "\n",
    "# Save to CSV including all original columns and the new latitude and longitude columns\n",
    "output_csv = \"E:\\\\UofT PhD Courses\\\\Fall 2024\\\\CME538H1 F LEC0101_Data_Scn_CIVMIN\\\\Big Project\\\\Project - Safe and affodable housing\\\\Data\\\\Other amenities\\\\ON-data\\\\CSV from shape files\\\\some_other\\\\ON-cafe_lat_long.csv\" # Buildings\n",
    "gdf.to_csv(output_csv, index=False)\n",
    "\n",
    "# Print confirmation message\n",
    "print(f\"CSV file saved successfully as {output_csv}\")"
   ]
  },
  {
   "cell_type": "markdown",
   "id": "c36af322-15bb-41c4-a44a-71be7a2c7372",
   "metadata": {},
   "source": [
    "# Play grounds"
   ]
  },
  {
   "cell_type": "code",
   "execution_count": null,
   "id": "91de9624-42ac-4713-9e21-035d5c1a68e8",
   "metadata": {},
   "outputs": [],
   "source": [
    "import geopandas as gpd\n",
    "\n",
    "# Load the shapefile\n",
    "\"\"\"\n",
    "This is for the buildings shape file\n",
    "\"\"\"\n",
    "shapefile_path = \"E:\\\\UofT PhD Courses\\\\Fall 2024\\\\CME538H1 F LEC0101_Data_Scn_CIVMIN\\\\Big Project\\\\Project - Safe and affodable housing\\\\Data\\\\Other amenities\\\\ON-data\\\\shape_files\\\\some_other\\\\ON-play_grounds.shp\"\n",
    "gdf = gpd.read_file(shapefile_path)\n",
    "\n",
    "# Check the geometry type to handle it accordingly\n",
    "if gdf.geometry.iloc[0].geom_type == 'Polygon':\n",
    "    # For polygons, use centroid to get lat/long\n",
    "    gdf['Latitude'] = gdf.geometry.centroid.y\n",
    "    gdf['Longitude'] = gdf.geometry.centroid.x\n",
    "else:\n",
    "    # For points, use the x and y coordinates directly\n",
    "    gdf['Latitude'] = gdf.geometry.y\n",
    "    gdf['Longitude'] = gdf.geometry.x\n",
    "\n",
    "# Display the DataFrame with all columns including the new lat/long columns\n",
    "# print(gdf)\n",
    "\n",
    "# Save to CSV including all original columns and the new latitude and longitude columns\n",
    "output_csv = \"E:\\\\UofT PhD Courses\\\\Fall 2024\\\\CME538H1 F LEC0101_Data_Scn_CIVMIN\\\\Big Project\\\\Project - Safe and affodable housing\\\\Data\\\\Other amenities\\\\ON-data\\\\CSV from shape files\\\\some_other\\\\ON-play_grounds_lat_long.csv\" # Buildings\n",
    "gdf.to_csv(output_csv, index=False)\n",
    "\n",
    "# Print confirmation message\n",
    "print(f\"CSV file saved successfully as {output_csv}\")"
   ]
  },
  {
   "cell_type": "markdown",
   "id": "a89efe32-4f6c-4b05-8dbc-f3915a217236",
   "metadata": {},
   "source": [
    "# Kindergarten"
   ]
  },
  {
   "cell_type": "code",
   "execution_count": null,
   "id": "6ab790a9-cbf4-4f18-9cde-e041b484b7f8",
   "metadata": {},
   "outputs": [],
   "source": [
    "import geopandas as gpd\n",
    "\n",
    "# Load the shapefile\n",
    "\"\"\"\n",
    "This is for the buildings shape file\n",
    "\"\"\"\n",
    "shapefile_path = \"E:\\\\UofT PhD Courses\\\\Fall 2024\\\\CME538H1 F LEC0101_Data_Scn_CIVMIN\\\\Big Project\\\\Project - Safe and affodable housing\\\\Data\\\\Other amenities\\\\ON-data\\\\shape_files\\\\some_other\\\\ON-kindergartens.shp\"\n",
    "gdf = gpd.read_file(shapefile_path)\n",
    "\n",
    "# Check the geometry type to handle it accordingly\n",
    "if gdf.geometry.iloc[0].geom_type == 'Polygon':\n",
    "    # For polygons, use centroid to get lat/long\n",
    "    gdf['Latitude'] = gdf.geometry.centroid.y\n",
    "    gdf['Longitude'] = gdf.geometry.centroid.x\n",
    "else:\n",
    "    # For points, use the x and y coordinates directly\n",
    "    gdf['Latitude'] = gdf.geometry.y\n",
    "    gdf['Longitude'] = gdf.geometry.x\n",
    "\n",
    "# Display the DataFrame with all columns including the new lat/long columns\n",
    "# print(gdf)\n",
    "\n",
    "# Save to CSV including all original columns and the new latitude and longitude columns\n",
    "output_csv = \"E:\\\\UofT PhD Courses\\\\Fall 2024\\\\CME538H1 F LEC0101_Data_Scn_CIVMIN\\\\Big Project\\\\Project - Safe and affodable housing\\\\Data\\\\Other amenities\\\\ON-data\\\\CSV from shape files\\\\some_other\\\\ON-kindergartens_lat_long.csv\" # Buildings\n",
    "gdf.to_csv(output_csv, index=False)\n",
    "\n",
    "# Print confirmation message\n",
    "print(f\"CSV file saved successfully as {output_csv}\")"
   ]
  },
  {
   "cell_type": "markdown",
   "id": "96a107be-97c8-412a-9520-7624528619c3",
   "metadata": {},
   "source": [
    "# Post office"
   ]
  },
  {
   "cell_type": "code",
   "execution_count": null,
   "id": "48da8802-2d87-426d-a192-44f6a3c10c6e",
   "metadata": {},
   "outputs": [],
   "source": [
    "import geopandas as gpd\n",
    "\n",
    "# Load the shapefile\n",
    "\"\"\"\n",
    "This is for the buildings shape file\n",
    "\"\"\"\n",
    "shapefile_path = \"E:\\\\UofT PhD Courses\\\\Fall 2024\\\\CME538H1 F LEC0101_Data_Scn_CIVMIN\\\\Big Project\\\\Project - Safe and affodable housing\\\\Data\\\\Other amenities\\\\ON-data\\\\shape_files\\\\some_other\\\\ON-post_office2.shp\"\n",
    "gdf = gpd.read_file(shapefile_path)\n",
    "\n",
    "# Check the geometry type to handle it accordingly\n",
    "if gdf.geometry.iloc[0].geom_type == 'Polygon':\n",
    "    # For polygons, use centroid to get lat/long\n",
    "    gdf['Latitude'] = gdf.geometry.centroid.y\n",
    "    gdf['Longitude'] = gdf.geometry.centroid.x\n",
    "else:\n",
    "    # For points, use the x and y coordinates directly\n",
    "    gdf['Latitude'] = gdf.geometry.y\n",
    "    gdf['Longitude'] = gdf.geometry.x\n",
    "\n",
    "# Display the DataFrame with all columns including the new lat/long columns\n",
    "# print(gdf)\n",
    "\n",
    "# Save to CSV including all original columns and the new latitude and longitude columns\n",
    "output_csv = \"E:\\\\UofT PhD Courses\\\\Fall 2024\\\\CME538H1 F LEC0101_Data_Scn_CIVMIN\\\\Big Project\\\\Project - Safe and affodable housing\\\\Data\\\\Other amenities\\\\ON-data\\\\CSV from shape files\\\\some_other\\\\ON-post_office_lat_long.csv\" # Buildings\n",
    "gdf.to_csv(output_csv, index=False)\n",
    "\n",
    "# Print confirmation message\n",
    "print(f\"CSV file saved successfully as {output_csv}\")"
   ]
  },
  {
   "cell_type": "markdown",
   "id": "28186526-69ed-4b52-bbf4-5f77bb9fde89",
   "metadata": {},
   "source": [
    "# Dentist"
   ]
  },
  {
   "cell_type": "code",
   "execution_count": null,
   "id": "c5434e7c-8be8-4051-9ea2-3858ce10a7a6",
   "metadata": {},
   "outputs": [],
   "source": [
    "import geopandas as gpd\n",
    "\n",
    "# Load the shapefile\n",
    "\"\"\"\n",
    "This is for the buildings shape file\n",
    "\"\"\"\n",
    "shapefile_path = \"E:\\\\UofT PhD Courses\\\\Fall 2024\\\\CME538H1 F LEC0101_Data_Scn_CIVMIN\\\\Big Project\\\\Project - Safe and affodable housing\\\\Data\\\\Other amenities\\\\ON-data\\\\shape_files\\\\some_other\\\\ON-dentist.shp\"\n",
    "gdf = gpd.read_file(shapefile_path)\n",
    "\n",
    "# Check the geometry type to handle it accordingly\n",
    "if gdf.geometry.iloc[0].geom_type == 'Polygon':\n",
    "    # For polygons, use centroid to get lat/long\n",
    "    gdf['Latitude'] = gdf.geometry.centroid.y\n",
    "    gdf['Longitude'] = gdf.geometry.centroid.x\n",
    "else:\n",
    "    # For points, use the x and y coordinates directly\n",
    "    gdf['Latitude'] = gdf.geometry.y\n",
    "    gdf['Longitude'] = gdf.geometry.x\n",
    "\n",
    "# Display the DataFrame with all columns including the new lat/long columns\n",
    "# print(gdf)\n",
    "\n",
    "# Save to CSV including all original columns and the new latitude and longitude columns\n",
    "output_csv = \"E:\\\\UofT PhD Courses\\\\Fall 2024\\\\CME538H1 F LEC0101_Data_Scn_CIVMIN\\\\Big Project\\\\Project - Safe and affodable housing\\\\Data\\\\Other amenities\\\\ON-data\\\\CSV from shape files\\\\some_other\\\\ON-dentist_lat_long.csv\" # Buildings\n",
    "gdf.to_csv(output_csv, index=False)\n",
    "\n",
    "# Print confirmation message\n",
    "print(f\"CSV file saved successfully as {output_csv}\")"
   ]
  }
 ],
 "metadata": {
  "kernelspec": {
   "display_name": "Python 3 (ipykernel)",
   "language": "python",
   "name": "python3"
  },
  "language_info": {
   "codemirror_mode": {
    "name": "ipython",
    "version": 3
   },
   "file_extension": ".py",
   "mimetype": "text/x-python",
   "name": "python",
   "nbconvert_exporter": "python",
   "pygments_lexer": "ipython3",
   "version": "3.12.4"
  }
 },
 "nbformat": 4,
 "nbformat_minor": 5
}
