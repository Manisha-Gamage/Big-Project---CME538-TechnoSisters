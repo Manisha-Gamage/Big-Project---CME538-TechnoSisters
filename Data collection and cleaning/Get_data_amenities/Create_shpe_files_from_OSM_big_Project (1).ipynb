{
 "cells": [
  {
   "cell_type": "markdown",
   "id": "d2f88da7-7219-4a77-be5b-b84959d5a5af",
   "metadata": {},
   "source": [
    "# This code is to filter the specific land uses from the each OSM shape files and create seperate shape files\n",
    "\n",
    "The shape files are downloaded from Canada open street map (OSM) webiste:\n",
    "The British Colombia and Ontario OSM files are downloaded and then each shape files are first inspected from ARCGIS software.\n",
    "\n",
    "*here the Pois (point of interest), buildings and transport shape files are used to extact the amenities that we are interested to use in our project*"
   ]
  },
  {
   "cell_type": "markdown",
   "id": "56c76f7e-568b-40c7-9888-ee01408eac8d",
   "metadata": {},
   "source": [
    "# Parks"
   ]
  },
  {
   "cell_type": "code",
   "execution_count": null,
   "id": "1c3fe672-c011-47c6-b76d-793bf4b4a9da",
   "metadata": {},
   "outputs": [],
   "source": [
    "import geopandas as gpd\n",
    "\n",
    "# Load your shapefile\n",
    "shapefile_path = \"D:\\\\UofT_Projects\\\\Naps Data\\\\NAPS_Paper_Manisha\\\\Land Use maps\\\\CANUE data\\\\Shape files- provinces\\\\OSM\\\\ontario-latest-free\\\\gis_osm_pois_free_1.shp\"\n",
    "gdf = gpd.read_file(shapefile_path)\n",
    "\n",
    "# keyword and column name\n",
    "keyword = \"park\"\n",
    "column_name = \"fclass\"\n",
    "\n",
    "# Filter the GeoDataFrame based on the keyword\n",
    "filtered_gdf = gdf[gdf[column_name].str.contains(keyword, case=False, na=False)]\n",
    "\n",
    "# Save the filtered data to a new shapefile\n",
    "output_path = \"E:\\\\UofT PhD Courses\\\\Fall 2024\\\\CME538H1 F LEC0101_Data_Scn_CIVMIN\\\\Big Project\\\\Project - Safe and affodable housing\\\\Data\\\\Other amenities\\\\ON-parks.shp\"\n",
    "filtered_gdf.to_file(output_path)\n",
    "\n",
    "print(\"Shapefile created successfully:\", output_path)"
   ]
  },
  {
   "cell_type": "markdown",
   "id": "ddbf7730-eb27-4d09-abb2-b05263900748",
   "metadata": {},
   "source": [
    "# Pubs"
   ]
  },
  {
   "cell_type": "code",
   "execution_count": null,
   "id": "48316122-9509-46cd-b298-9f9e173da827",
   "metadata": {},
   "outputs": [],
   "source": [
    "import geopandas as gpd\n",
    "\n",
    "# Load your shapefile\n",
    "shapefile_path = \"D:\\\\UofT_Projects\\\\Naps Data\\\\NAPS_Paper_Manisha\\\\Land Use maps\\\\CANUE data\\\\Shape files- provinces\\\\OSM\\\\ontario-latest-free\\\\gis_osm_pois_free_1.shp\"\n",
    "gdf = gpd.read_file(shapefile_path)\n",
    "\n",
    "# keyword and column name\n",
    "keyword = \"pub\"\n",
    "column_name = \"fclass\"\n",
    "\n",
    "# Filter the GeoDataFrame based on the keyword\n",
    "filtered_gdf = gdf[gdf[column_name].str.contains(keyword, case=False, na=False)]\n",
    "\n",
    "# Save the filtered data to a new shapefile\n",
    "output_path = \"E:\\\\UofT PhD Courses\\\\Fall 2024\\\\CME538H1 F LEC0101_Data_Scn_CIVMIN\\\\Big Project\\\\Project - Safe and affodable housing\\\\Data\\\\Other amenities\\\\ON-pubs.shp\"\n",
    "filtered_gdf.to_file(output_path)\n",
    "\n",
    "print(\"Shapefile created successfully:\", output_path)"
   ]
  },
  {
   "cell_type": "markdown",
   "id": "49bd54d4-7f08-40dc-9d14-228547ba984a",
   "metadata": {},
   "source": [
    "# Restuarents"
   ]
  },
  {
   "cell_type": "code",
   "execution_count": null,
   "id": "b43a3422-81b7-45d9-afb1-47e9068986cf",
   "metadata": {},
   "outputs": [],
   "source": [
    "import geopandas as gpd\n",
    "\n",
    "# Load your shapefile\n",
    "shapefile_path = \"D:\\\\UofT_Projects\\\\Naps Data\\\\NAPS_Paper_Manisha\\\\Land Use maps\\\\CANUE data\\\\Shape files- provinces\\\\OSM\\\\ontario-latest-free\\\\gis_osm_pois_free_1.shp\"\n",
    "gdf = gpd.read_file(shapefile_path)\n",
    "\n",
    "# keyword and column name\n",
    "keyword = \"restaurant\"\n",
    "column_name = \"fclass\"\n",
    "\n",
    "# Filter the GeoDataFrame based on the keyword\n",
    "filtered_gdf = gdf[gdf[column_name].str.contains(keyword, case=False, na=False)]\n",
    "\n",
    "# Save the filtered data to a new shapefile\n",
    "output_path = \"E:\\\\UofT PhD Courses\\\\Fall 2024\\\\CME538H1 F LEC0101_Data_Scn_CIVMIN\\\\Big Project\\\\Project - Safe and affodable housing\\\\Data\\\\Other amenities\\\\ON-restaurants.shp\"\n",
    "filtered_gdf.to_file(output_path)\n",
    "\n",
    "print(\"Shapefile created successfully:\", output_path)"
   ]
  },
  {
   "cell_type": "markdown",
   "id": "5aa6c908-5970-48d9-abf1-77c376b19801",
   "metadata": {},
   "source": [
    "# Supermarkets"
   ]
  },
  {
   "cell_type": "code",
   "execution_count": null,
   "id": "abdbedb8-582f-4d26-ba31-3425ff3d10c1",
   "metadata": {},
   "outputs": [],
   "source": [
    "import geopandas as gpd\n",
    "\n",
    "# Load your shapefile\n",
    "shapefile_path = \"D:\\\\UofT_Projects\\\\Naps Data\\\\NAPS_Paper_Manisha\\\\Land Use maps\\\\CANUE data\\\\Shape files- provinces\\\\OSM\\\\ontario-latest-free\\\\gis_osm_pois_free_1.shp\"\n",
    "gdf = gpd.read_file(shapefile_path)\n",
    "\n",
    "# keyword and column name\n",
    "keyword = \"supermarket\"\n",
    "column_name = \"fclass\"\n",
    "\n",
    "# Filter the GeoDataFrame based on the keyword\n",
    "filtered_gdf = gdf[gdf[column_name].str.contains(keyword, case=False, na=False)]\n",
    "\n",
    "# Save the filtered data to a new shapefile\n",
    "output_path = \"E:\\\\UofT PhD Courses\\\\Fall 2024\\\\CME538H1 F LEC0101_Data_Scn_CIVMIN\\\\Big Project\\\\Project - Safe and affodable housing\\\\Data\\\\Other amenities\\\\ON-supermarkets.shp\"\n",
    "filtered_gdf.to_file(output_path)\n",
    "\n",
    "print(\"Shapefile created successfully:\", output_path)"
   ]
  },
  {
   "cell_type": "markdown",
   "id": "879c0410-d660-409c-b818-132052736a57",
   "metadata": {},
   "source": [
    "# Recreational"
   ]
  },
  {
   "cell_type": "code",
   "execution_count": null,
   "id": "5e81b602-bb8f-48ab-a5e2-7214f7cb993c",
   "metadata": {},
   "outputs": [],
   "source": [
    "import geopandas as gpd\n",
    "\n",
    "# Load your shapefile\n",
    "shapefile_path = \"D:\\\\UofT_Projects\\\\Naps Data\\\\NAPS_Paper_Manisha\\\\Land Use maps\\\\CANUE data\\\\Shape files- provinces\\\\OSM\\\\ontario-latest-free\\\\gis_osm_pois_free_1.shp\"\n",
    "gdf = gpd.read_file(shapefile_path)\n",
    "\n",
    "# keyword and column name\n",
    "keyword = \"recreational\"\n",
    "column_name = \"fclass\"\n",
    "\n",
    "# Filter the GeoDataFrame based on the keyword\n",
    "filtered_gdf = gdf[gdf[column_name].str.contains(keyword, case=False, na=False)]\n",
    "\n",
    "# Save the filtered data to a new shapefile\n",
    "output_path = \"E:\\\\UofT PhD Courses\\\\Fall 2024\\\\CME538H1 F LEC0101_Data_Scn_CIVMIN\\\\Big Project\\\\Project - Safe and affodable housing\\\\Data\\\\Other amenities\\\\ON-recreational.shp\"\n",
    "filtered_gdf.to_file(output_path)\n",
    "\n",
    "print(\"Shapefile created successfully:\", output_path)"
   ]
  },
  {
   "cell_type": "markdown",
   "id": "43434479-2470-41b4-9cff-0e561881e3ad",
   "metadata": {},
   "source": [
    "# Schools, universities, colleages"
   ]
  },
  {
   "cell_type": "code",
   "execution_count": null,
   "id": "315eb850-eaee-4ad0-a516-c28256200586",
   "metadata": {},
   "outputs": [],
   "source": [
    "import geopandas as gpd\n",
    "\n",
    "# Load your shapefile\n",
    "shapefile_path = \"D:\\\\UofT_Projects\\\\Naps Data\\\\NAPS_Paper_Manisha\\\\Land Use maps\\\\CANUE data\\\\Shape files- provinces\\\\OSM\\\\ontario-latest-free\\\\gis_osm_buildings_a_free_1.shp\"\n",
    "gdf = gpd.read_file(shapefile_path)\n",
    "\n",
    "# keyword and column name\n",
    "# keyword and column name\n",
    "keyword = \"school\", \"university\", \"colleage\"\n",
    "column_name = \"type\"\n",
    "\n",
    "# Filter the GeoDataFrame based on the keyword\n",
    "filtered_gdf = gdf[gdf[column_name].str.contains('|'.join(keyword), case=False, na=False)]\n",
    "\n",
    "# Save the filtered data to a new shapefile\n",
    "output_path = \"E:\\\\UofT PhD Courses\\\\Fall 2024\\\\CME538H1 F LEC0101_Data_Scn_CIVMIN\\\\Big Project\\\\Project - Safe and affodable housing\\\\Data\\\\Other amenities\\\\ON-schools_uni_colleages.shp\"\n",
    "filtered_gdf.to_file(output_path)\n",
    "\n",
    "print(\"Shapefile created successfully:\", output_path)"
   ]
  },
  {
   "cell_type": "markdown",
   "id": "a5849bd4-5201-46a6-90c4-eb1b3537b157",
   "metadata": {},
   "source": [
    "# Cinema"
   ]
  },
  {
   "cell_type": "code",
   "execution_count": null,
   "id": "23cbcc7f-2447-4161-9386-2e06775d712f",
   "metadata": {},
   "outputs": [],
   "source": [
    "import geopandas as gpd\n",
    "\n",
    "# Load your shapefile\n",
    "shapefile_path = \"D:\\\\UofT_Projects\\\\Naps Data\\\\NAPS_Paper_Manisha\\\\Land Use maps\\\\CANUE data\\\\Shape files- provinces\\\\OSM\\\\ontario-latest-free\\\\gis_osm_pois_free_1.shp\"\n",
    "gdf = gpd.read_file(shapefile_path)\n",
    "\n",
    "# keyword and column name\n",
    "keyword = \"cinema\"\n",
    "column_name = \"fclass\"\n",
    "\n",
    "# Filter the GeoDataFrame based on the keyword\n",
    "filtered_gdf = gdf[gdf[column_name].str.contains(keyword, case=False, na=False)]\n",
    "\n",
    "# Save the filtered data to a new shapefile\n",
    "output_path = \"E:\\\\UofT PhD Courses\\\\Fall 2024\\\\CME538H1 F LEC0101_Data_Scn_CIVMIN\\\\Big Project\\\\Project - Safe and affodable housing\\\\Data\\\\Other amenities\\\\ON-cinema.shp\"\n",
    "filtered_gdf.to_file(output_path)\n",
    "\n",
    "print(\"Shapefile created successfully:\", output_path)"
   ]
  },
  {
   "cell_type": "markdown",
   "id": "9b2152ca-9f79-4d99-9fe8-f341088423cd",
   "metadata": {},
   "source": [
    "# Bus stops and railways - from transport shape file"
   ]
  },
  {
   "cell_type": "code",
   "execution_count": null,
   "id": "c6c87f64-9783-4ad4-9740-d4101d6cd524",
   "metadata": {},
   "outputs": [],
   "source": [
    "import geopandas as gpd\n",
    "\n",
    "# Load your shapefile\n",
    "shapefile_path = \"D:\\\\UofT_Projects\\\\Naps Data\\\\NAPS_Paper_Manisha\\\\Land Use maps\\\\CANUE data\\\\Shape files- provinces\\\\OSM\\\\ontario-latest-free\\\\gis_osm_transport_free_1.shp\"\n",
    "gdf = gpd.read_file(shapefile_path)\n",
    "\n",
    "# keyword and column name\n",
    "keyword = \"bus\", \"railway\"\n",
    "column_name = \"fclass\"\n",
    "\n",
    "# Filter the GeoDataFrame based on the keyword\n",
    "filtered_gdf = gdf[gdf[column_name].str.contains('|'.join(keyword), case=False, na=False)]\n",
    "\n",
    "# Save the filtered data to a new shapefile\n",
    "output_path = \"E:\\\\UofT PhD Courses\\\\Fall 2024\\\\CME538H1 F LEC0101_Data_Scn_CIVMIN\\\\Big Project\\\\Project - Safe and affodable housing\\\\Data\\\\Other amenities\\\\ON-bus_rail_stops.shp\"\n",
    "filtered_gdf.to_file(output_path)\n",
    "\n",
    "print(\"Shapefile created successfully:\", output_path)\n"
   ]
  },
  {
   "cell_type": "markdown",
   "id": "c8247eb7-3fa9-4cf5-a67b-8d687f4fb17d",
   "metadata": {},
   "source": [
    "# Hospitals"
   ]
  },
  {
   "cell_type": "code",
   "execution_count": null,
   "id": "8e21cd9f-9381-4b77-aa30-15b3cb3dc0a4",
   "metadata": {},
   "outputs": [],
   "source": [
    "import geopandas as gpd\n",
    "\n",
    "# Load your shapefile\n",
    "shapefile_path = \"D:\\\\UofT_Projects\\\\Naps Data\\\\NAPS_Paper_Manisha\\\\Land Use maps\\\\CANUE data\\\\Shape files- provinces\\\\OSM\\\\ontario-latest-free\\\\gis_osm_buildings_a_free_1.shp\"\n",
    "gdf = gpd.read_file(shapefile_path)\n",
    "\n",
    "# keyword and column name\n",
    "keyword = \"hospital\"\n",
    "column_name = \"fclass\"\n",
    "\n",
    "# Filter the GeoDataFrame based on the keyword\n",
    "filtered_gdf = gdf[gdf[column_name].str.contains(keyword, case=False, na=False)]\n",
    "\n",
    "# Save the filtered data to a new shapefile\n",
    "output_path = \"E:\\\\UofT PhD Courses\\\\Fall 2024\\\\CME538H1 F LEC0101_Data_Scn_CIVMIN\\\\Big Project\\\\Project - Safe and affodable housing\\\\Data\\\\Other amenities\\\\ON-hospital.shp\"\n",
    "filtered_gdf.to_file(output_path)\n",
    "\n",
    "print(\"Shapefile created successfully:\", output_path)"
   ]
  },
  {
   "cell_type": "markdown",
   "id": "8f018a1c-856a-4505-af3b-632b41e6e030",
   "metadata": {},
   "source": [
    "# Malls"
   ]
  },
  {
   "cell_type": "code",
   "execution_count": null,
   "id": "88712926-66d5-4982-a6e2-975f50b1920f",
   "metadata": {},
   "outputs": [],
   "source": [
    "import geopandas as gpd\n",
    "\n",
    "# Load your shapefile\n",
    "shapefile_path = \"D:\\\\UofT_Projects\\\\Naps Data\\\\NAPS_Paper_Manisha\\\\Land Use maps\\\\CANUE data\\\\Shape files- provinces\\\\OSM\\\\ontario-latest-free\\\\gis_osm_pois_free_1.shp\"\n",
    "gdf = gpd.read_file(shapefile_path)\n",
    "\n",
    "# keyword and column name\n",
    "keyword = \"mall\", \"shopping\", \"retail\"\n",
    "column_name = \"fclass\"\n",
    "\n",
    "# Filter the GeoDataFrame based on the keyword\n",
    "filtered_gdf = gdf[gdf[column_name].str.contains('|'.join(keyword), case=False, na=False)]\n",
    "\n",
    "# Save the filtered data to a new shapefile\n",
    "output_path = \"E:\\\\UofT PhD Courses\\\\Fall 2024\\\\CME538H1 F LEC0101_Data_Scn_CIVMIN\\\\Big Project\\\\Project - Safe and affodable housing\\\\Data\\\\Other amenities\\\\ON-malls.shp\"\n",
    "filtered_gdf.to_file(output_path)\n",
    "\n",
    "print(\"Shapefile created successfully:\", output_path)"
   ]
  },
  {
   "cell_type": "markdown",
   "id": "108ab4e8-f937-482f-8ef8-9f7b2d8af814",
   "metadata": {},
   "source": [
    "# Fast food"
   ]
  },
  {
   "cell_type": "code",
   "execution_count": null,
   "id": "b8b1445a-fec9-42a1-bae0-21abfdc11b45",
   "metadata": {},
   "outputs": [],
   "source": [
    "import geopandas as gpd\n",
    "\n",
    "# Load your shapefile\n",
    "shapefile_path = \"D:\\\\UofT_Projects\\\\Naps Data\\\\NAPS_Paper_Manisha\\\\Land Use maps\\\\CANUE data\\\\Shape files- provinces\\\\OSM\\\\ontario-latest-free\\\\gis_osm_pois_free_1.shp\"\n",
    "gdf = gpd.read_file(shapefile_path)\n",
    "\n",
    "# keyword and column name\n",
    "keyword = \"fast_food\"\n",
    "column_name = \"fclass\"\n",
    "\n",
    "# Filter the GeoDataFrame based on the keyword\n",
    "filtered_gdf = gdf[gdf[column_name].str.contains(keyword, case=False, na=False)]\n",
    "\n",
    "# Save the filtered data to a new shapefile\n",
    "output_path = \"E:\\\\UofT PhD Courses\\\\Fall 2024\\\\CME538H1 F LEC0101_Data_Scn_CIVMIN\\\\Big Project\\\\Project - Safe and affodable housing\\\\Data\\\\Other amenities\\\\ON-fast_food.shp\"\n",
    "filtered_gdf.to_file(output_path)\n",
    "\n",
    "print(\"Shapefile created successfully:\", output_path)"
   ]
  },
  {
   "cell_type": "markdown",
   "id": "8c8e6cb2-372f-4368-90b8-5d9e3a2feed1",
   "metadata": {},
   "source": [
    "# Cafe"
   ]
  },
  {
   "cell_type": "code",
   "execution_count": null,
   "id": "9b81b78e-871e-4bfd-ab89-d7e55788d954",
   "metadata": {},
   "outputs": [],
   "source": [
    "import geopandas as gpd\n",
    "\n",
    "# Load your shapefile\n",
    "shapefile_path = \"D:\\\\UofT_Projects\\\\Naps Data\\\\NAPS_Paper_Manisha\\\\Land Use maps\\\\CANUE data\\\\Shape files- provinces\\\\OSM\\\\ontario-latest-free\\\\gis_osm_pois_free_1.shp\"\n",
    "gdf = gpd.read_file(shapefile_path)\n",
    "\n",
    "# keyword and column name\n",
    "keyword = \"cafe\"\n",
    "column_name = \"fclass\"\n",
    "\n",
    "# Filter the GeoDataFrame based on the keyword\n",
    "filtered_gdf = gdf[gdf[column_name].str.contains(keyword, case=False, na=False)]\n",
    "\n",
    "# Save the filtered data to a new shapefile\n",
    "output_path = \"E:\\\\UofT PhD Courses\\\\Fall 2024\\\\CME538H1 F LEC0101_Data_Scn_CIVMIN\\\\Big Project\\\\Project - Safe and affodable housing\\\\Data\\\\Other amenities\\\\ON-cafe.shp\"\n",
    "filtered_gdf.to_file(output_path)\n",
    "\n",
    "print(\"Shapefile created successfully:\", output_path)"
   ]
  },
  {
   "cell_type": "markdown",
   "id": "bf53a189-a16e-409c-bf78-4869eba3e9aa",
   "metadata": {},
   "source": [
    "# Play grounds"
   ]
  },
  {
   "cell_type": "code",
   "execution_count": null,
   "id": "cc6322d5-61fc-4184-a035-fe2e76b6bae8",
   "metadata": {},
   "outputs": [],
   "source": [
    "import geopandas as gpd\n",
    "\n",
    "# Load your shapefile\n",
    "shapefile_path = \"D:\\\\UofT_Projects\\\\Naps Data\\\\NAPS_Paper_Manisha\\\\Land Use maps\\\\CANUE data\\\\Shape files- provinces\\\\OSM\\\\ontario-latest-free\\\\gis_osm_pois_free_1.shp\"\n",
    "gdf = gpd.read_file(shapefile_path)\n",
    "\n",
    "# keyword and column name\n",
    "keyword = \"playground\"\n",
    "column_name = \"fclass\"\n",
    "\n",
    "# Filter the GeoDataFrame based on the keyword\n",
    "filtered_gdf = gdf[gdf[column_name].str.contains(keyword, case=False, na=False)]\n",
    "\n",
    "# Save the filtered data to a new shapefile\n",
    "output_path = \"E:\\\\UofT PhD Courses\\\\Fall 2024\\\\CME538H1 F LEC0101_Data_Scn_CIVMIN\\\\Big Project\\\\Project - Safe and affodable housing\\\\Data\\\\Other amenities\\\\ON-play_grounds.shp\"\n",
    "filtered_gdf.to_file(output_path)\n",
    "\n",
    "print(\"Shapefile created successfully:\", output_path)"
   ]
  },
  {
   "cell_type": "markdown",
   "id": "b8ddcb71-8011-482b-b3fa-59ffedc236b6",
   "metadata": {},
   "source": [
    "# Kindergarterns"
   ]
  },
  {
   "cell_type": "code",
   "execution_count": null,
   "id": "b4edd8ae-ba8f-4509-956d-3e6e78321a06",
   "metadata": {},
   "outputs": [],
   "source": [
    "import geopandas as gpd\n",
    "\n",
    "# Load your shapefile\n",
    "shapefile_path = \"D:\\\\UofT_Projects\\\\Naps Data\\\\NAPS_Paper_Manisha\\\\Land Use maps\\\\CANUE data\\\\Shape files- provinces\\\\OSM\\\\ontario-latest-free\\\\gis_osm_pois_free_1.shp\"\n",
    "gdf = gpd.read_file(shapefile_path)\n",
    "\n",
    "# keyword and column name\n",
    "keyword = \"kindergarten\"\n",
    "column_name = \"fclass\"\n",
    "\n",
    "# Filter the GeoDataFrame based on the keyword\n",
    "filtered_gdf = gdf[gdf[column_name].str.contains(keyword, case=False, na=False)]\n",
    "\n",
    "# Save the filtered data to a new shapefile\n",
    "output_path = \"E:\\\\UofT PhD Courses\\\\Fall 2024\\\\CME538H1 F LEC0101_Data_Scn_CIVMIN\\\\Big Project\\\\Project - Safe and affodable housing\\\\Data\\\\Other amenities\\\\ON-kindergartens.shp\"\n",
    "filtered_gdf.to_file(output_path)\n",
    "\n",
    "print(\"Shapefile created successfully:\", output_path)"
   ]
  },
  {
   "cell_type": "markdown",
   "id": "d60ac612-feb0-49ae-a774-5078a3e86711",
   "metadata": {},
   "source": [
    "# Post office"
   ]
  },
  {
   "cell_type": "code",
   "execution_count": null,
   "id": "793d2910-54de-4d22-9d15-46c4b08efeba",
   "metadata": {},
   "outputs": [],
   "source": [
    "import geopandas as gpd\n",
    "\n",
    "# Load your shapefile\n",
    "shapefile_path = \"D:\\\\UofT_Projects\\\\Naps Data\\\\NAPS_Paper_Manisha\\\\Land Use maps\\\\CANUE data\\\\Shape files- provinces\\\\OSM\\\\ontario-latest-free\\\\gis_osm_pois_free_1.shp\"\n",
    "gdf = gpd.read_file(shapefile_path)\n",
    "\n",
    "# keyword and column name\n",
    "keyword = \"post_office\"\n",
    "column_name = \"fclass\"\n",
    "\n",
    "# Filter the GeoDataFrame based on the keyword\n",
    "filtered_gdf = gdf[gdf[column_name].str.contains(keyword, case=False, na=False)]\n",
    "\n",
    "# Save the filtered data to a new shapefile\n",
    "output_path = \"E:\\\\UofT PhD Courses\\\\Fall 2024\\\\CME538H1 F LEC0101_Data_Scn_CIVMIN\\\\Big Project\\\\Project - Safe and affodable housing\\\\Data\\\\Other amenities\\\\ON-post_office2.shp\"\n",
    "filtered_gdf.to_file(output_path)\n",
    "\n",
    "print(\"Shapefile created successfully:\", output_path)"
   ]
  },
  {
   "cell_type": "markdown",
   "id": "2b4be17d-3ee2-47ad-ac9f-fd925a5f9e30",
   "metadata": {},
   "source": [
    "# Denstist"
   ]
  },
  {
   "cell_type": "code",
   "execution_count": null,
   "id": "1fe6af27-4360-4374-8ee2-19a3f2924dc9",
   "metadata": {},
   "outputs": [],
   "source": [
    "import geopandas as gpd\n",
    "\n",
    "# Load your shapefile\n",
    "shapefile_path = \"D:\\\\UofT_Projects\\\\Naps Data\\\\NAPS_Paper_Manisha\\\\Land Use maps\\\\CANUE data\\\\Shape files- provinces\\\\OSM\\\\ontario-latest-free\\\\gis_osm_pois_a_free_1.shp\"\n",
    "gdf = gpd.read_file(shapefile_path)\n",
    "\n",
    "# keyword and column name\n",
    "keyword = \"dentist\"\n",
    "column_name = \"fclass\"\n",
    "\n",
    "# Filter the GeoDataFrame based on the keyword\n",
    "filtered_gdf = gdf[gdf[column_name].str.contains(keyword, case=False, na=False)]\n",
    "\n",
    "# Save the filtered data to a new shapefile\n",
    "output_path = \"E:\\\\UofT PhD Courses\\\\Fall 2024\\\\CME538H1 F LEC0101_Data_Scn_CIVMIN\\\\Big Project\\\\Project - Safe and affodable housing\\\\Data\\\\Other amenities\\\\ON-dentist.shp\"\n",
    "filtered_gdf.to_file(output_path)\n",
    "\n",
    "print(\"Shapefile created successfully:\", output_path)"
   ]
  },
  {
   "cell_type": "code",
   "execution_count": null,
   "id": "6597fb9b-f561-41a9-9cc4-0ab894a63b58",
   "metadata": {},
   "outputs": [],
   "source": []
  }
 ],
 "metadata": {
  "kernelspec": {
   "display_name": "Python 3 (ipykernel)",
   "language": "python",
   "name": "python3"
  },
  "language_info": {
   "codemirror_mode": {
    "name": "ipython",
    "version": 3
   },
   "file_extension": ".py",
   "mimetype": "text/x-python",
   "name": "python",
   "nbconvert_exporter": "python",
   "pygments_lexer": "ipython3",
   "version": "3.12.4"
  }
 },
 "nbformat": 4,
 "nbformat_minor": 5
}
