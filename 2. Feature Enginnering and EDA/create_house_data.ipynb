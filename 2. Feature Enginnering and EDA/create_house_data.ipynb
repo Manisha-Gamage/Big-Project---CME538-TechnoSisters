{
 "cells": [
  {
   "cell_type": "markdown",
   "id": "de243211-757b-44db-bd97-6159491fd4d7",
   "metadata": {},
   "source": [
    "## This code is to create both numerical and categorical features for house type based on bed and bath"
   ]
  },
  {
   "cell_type": "code",
   "execution_count": 1,
   "id": "a08e1e19-204a-4d50-b54d-04c8861c62a7",
   "metadata": {},
   "outputs": [],
   "source": [
    "import pandas as pd"
   ]
  },
  {
   "cell_type": "code",
   "execution_count": 2,
   "id": "8dd54fe3-2d93-419d-a670-f6532e0a3772",
   "metadata": {},
   "outputs": [],
   "source": [
    "# Load the CSV file\n",
    "file_path = \"C:\\\\Users\\\\mahagam3\\\\Documents\\\\CME Course\\\\step_1_Create_category_bed_bath_features\\\\main_df_classes_neigh-3_Torotno.csv\"  \n",
    "df = pd.read_csv(file_path)  "
   ]
  },
  {
   "cell_type": "markdown",
   "id": "1addb2a6-2697-453d-9551-5f41a34b36e9",
   "metadata": {},
   "source": [
    "## numerical features"
   ]
  },
  {
   "cell_type": "code",
   "execution_count": 3,
   "id": "163575e6-38ac-40e8-8b78-ea0442b15dd7",
   "metadata": {},
   "outputs": [],
   "source": [
    "# Create new features\n",
    "df['total_rooms'] = df['bedrooms'] + df['bathrooms']\n",
    "df['bath_bed_ratio'] = df['bathrooms'] / df['bedrooms']\n",
    "df['bed_proportion'] = df['bedrooms'] / df['total_rooms']\n",
    "\n",
    "# Handle division by zero in bath/bed ratio\n",
    "df['bath_bed_ratio'] = df['bath_bed_ratio'].replace([float('inf'), -float('inf')], 0).fillna(0)"
   ]
  },
  {
   "cell_type": "markdown",
   "id": "dfff3f62-e35e-4b57-8f32-fa212c6a246e",
   "metadata": {},
   "source": [
    "## cetegorical features"
   ]
  },
  {
   "cell_type": "code",
   "execution_count": 4,
   "id": "70a5d1dc-500c-40a3-9678-2542e2753b98",
   "metadata": {},
   "outputs": [],
   "source": [
    "# Function to assign categories based on beds and baths:\n",
    "# 1,0 bedroom 1 bathroom studio, 1-2 bedrooms and 1-2 bathrooms small, \n",
    "# 3-4 bedrooms and 2-4 baths medium, and 5+beds and 3+baths large, and remaning others\n",
    "def assign_category(row):\n",
    "    if row['bedrooms'] == 0 and 1 <= row['bathrooms'] <= 2:\n",
    "        return 'Studio'\n",
    "    elif 1 <= row['bedrooms'] <= 2 and 1 <= row['bathrooms'] <= 2:\n",
    "        return 'Small'\n",
    "    elif 3 <= row['bedrooms'] <= 4 and 2 <= row['bathrooms'] <= 4:\n",
    "        return 'Medium'\n",
    "    elif row['bedrooms'] >= 5 and row['bathrooms'] >= 3:\n",
    "        return 'Large'\n",
    "    else:\n",
    "        return 'Other'\n",
    "\n",
    "# Apply the function to create a new 'category' column\n",
    "df['House_category'] = df.apply(assign_category, axis=1)"
   ]
  },
  {
   "cell_type": "code",
   "execution_count": 5,
   "id": "c74f719f-1452-4830-886e-2f107d5e92cf",
   "metadata": {},
   "outputs": [
    {
     "name": "stdout",
     "output_type": "stream",
     "text": [
      "Updated file saved to C:\\Users\\mahagam3\\Documents\\CME Course\\step_1_Create_category_bed_bath_features\\bed_bath_category_Added_Toronto.csv\n"
     ]
    }
   ],
   "source": [
    "# Save the updated DataFrame to a new CSV file\n",
    "output_path = \"C:\\\\Users\\\\mahagam3\\\\Documents\\\\CME Course\\\\step_1_Create_category_bed_bath_features\\\\bed_bath_category_Added_Toronto.csv\"  \n",
    "df.to_csv(output_path, index=False)\n",
    "\n",
    "print(f\"Updated file saved to {output_path}\")"
   ]
  },
  {
   "cell_type": "code",
   "execution_count": null,
   "id": "cc640a3a-570b-4fa5-81ff-7698539cc6c6",
   "metadata": {},
   "outputs": [],
   "source": []
  }
 ],
 "metadata": {
  "kernelspec": {
   "display_name": "Python 3 (ipykernel)",
   "language": "python",
   "name": "python3"
  },
  "language_info": {
   "codemirror_mode": {
    "name": "ipython",
    "version": 3
   },
   "file_extension": ".py",
   "mimetype": "text/x-python",
   "name": "python",
   "nbconvert_exporter": "python",
   "pygments_lexer": "ipython3",
   "version": "3.12.4"
  }
 },
 "nbformat": 4,
 "nbformat_minor": 5
}
