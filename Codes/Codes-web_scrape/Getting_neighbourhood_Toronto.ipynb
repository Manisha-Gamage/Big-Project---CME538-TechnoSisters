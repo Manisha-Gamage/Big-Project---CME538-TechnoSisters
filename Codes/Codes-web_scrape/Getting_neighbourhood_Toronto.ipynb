{
 "cells": [
  {
   "cell_type": "markdown",
   "id": "785c3c87-27df-48cc-a0e5-26c5213f0574",
   "metadata": {},
   "source": [
    "# This code is taken from : \n",
    "*https://dataplatform.cloud.ibm.com/analytics/notebooks/v2/f345775d-d996-4035-9009-8ffb56057b22/view?access_token=98a0542961c0296219a57cbc7426269e33d7b1b96774b6eb55e8476bbdc8a0a3*"
   ]
  },
  {
   "cell_type": "markdown",
   "id": "f2da5349-df0c-4b53-8b24-d287ad2ed1e0",
   "metadata": {},
   "source": [
    "*Output is taken from the link above to do the cleaning*"
   ]
  },
  {
   "cell_type": "code",
   "execution_count": 61,
   "id": "14b1b586-5c15-40ef-b72d-34a0d71eeb01",
   "metadata": {},
   "outputs": [],
   "source": [
    "# !pip install beautifulsoup4\n",
    "# !pip install lxml\n",
    "# !pip install html5lib"
   ]
  },
  {
   "cell_type": "markdown",
   "id": "0dd48efd-7eb3-4480-b3d3-e83bf32a726c",
   "metadata": {},
   "source": [
    "# Scrape the Data Postal code data from wiki: \n",
    "*https://en.wikipedia.org/wiki/List_of_postal_codes_of_Canada:_V* and *https://en.wikipedia.org/wiki/List_of_postal_codes_of_Canada:_M*"
   ]
  },
  {
   "cell_type": "code",
   "execution_count": 80,
   "id": "ff53526f-3da1-4ee3-b901-3e1dce6b7d2d",
   "metadata": {},
   "outputs": [
    {
     "name": "stdout",
     "output_type": "stream",
     "text": [
      "    Postal Code                  Region Neighborhood\n",
      "0           V1A               Kimberley         None\n",
      "1           V1B             Vernon East         None\n",
      "2           V1C               Cranbrook         None\n",
      "3           V1E              Salmon Arm         None\n",
      "4           V1G            Dawson Creek         None\n",
      "..          ...                     ...          ...\n",
      "175         V9V       Nanaimo Northwest         None\n",
      "176         V9W  Campbell River Central         None\n",
      "177         V9X                 Nanaimo        Cedar\n",
      "178         V9Y            Port Alberni         None\n",
      "179         V9Z                   Sooke         None\n",
      "\n",
      "[180 rows x 3 columns]\n",
      "Data saved to C:\\Users\\manis\\OneDrive\\Desktop\\UofT PhD Courses\\Fall 2024\\CME538H1 F LEC0101_Data_Scn_CIVMIN\\Big Project\\Project - Safe and affodable housing\\Data\\Housing data\\New_Vancouver_house data\\vancouver_postal_codes.csv\n"
     ]
    }
   ],
   "source": [
    "import requests\n",
    "from bs4 import BeautifulSoup\n",
    "import pandas as pd\n",
    "from IPython.display import display_html\n",
    "\n",
    "# URL of the Wikipedia page\n",
    "url = \"https://en.wikipedia.org/wiki/List_of_postal_codes_of_Canada:_V\"  # Vancouver\n",
    "# url = \"https://en.wikipedia.org/wiki/List_of_postal_codes_of_Canada:_M\"  # Toronto\n",
    "\n",
    "# Read all tables from the Wikipedia page\n",
    "tables = pd.read_html(url)\n",
    "\n",
    "# # Assuming the table you need is the first one, select it\n",
    "# df = tables[0]  # Adjust the index if needed to get the correct table\n",
    "\n",
    "# # Display the DataFrame\n",
    "# print(df)\n",
    "\n",
    "\n",
    "# Rename columns for clarity if needed\n",
    "df.columns = ['0', '1', '2', '3', '4', '5', '6','7', '8']  # Update as necessary based on actual column names\n",
    "\n",
    "# Combine both columns into a single DataFrame for easier processing\n",
    "df_melted = pd.concat([df['0'], df['1'], df['2'], df['3'], df['4'], df['5'], df['6'], df['7'], df['8']], ignore_index=True)\n",
    "df_melted = df_melted.dropna().reset_index(drop=True)\n",
    "\n",
    "# Initialize lists to store separated data\n",
    "postal_codes = []\n",
    "regions = []\n",
    "neighborhoods = []\n",
    "\n",
    "# Process each entry\n",
    "for entry in df_melted:\n",
    "    # Split the entry by spaces to get the postal code and the rest\n",
    "    parts = entry.split()\n",
    "    postal_code = parts[0]\n",
    "    region = \" \".join(parts[1:])\n",
    "\n",
    "    # Separate neighborhood if it’s in parentheses\n",
    "    if '(' in region:\n",
    "        region_name, neighborhood = region.split('(', 1)\n",
    "        neighborhood = neighborhood.rstrip(')')\n",
    "        region_name = region_name.strip()\n",
    "    else:\n",
    "        region_name = region\n",
    "        neighborhood = None\n",
    "\n",
    "    # Append to lists\n",
    "    postal_codes.append(postal_code)\n",
    "    regions.append(region_name)\n",
    "    neighborhoods.append(neighborhood)\n",
    "\n",
    "# Create the cleaned DataFrame\n",
    "cleaned_df = pd.DataFrame({\n",
    "    \"Postal Code\": postal_codes,\n",
    "    \"Region\": regions,\n",
    "    \"Neighborhood\": neighborhoods\n",
    "})\n",
    "\n",
    "# Display the cleaned DataFrame\n",
    "print(cleaned_df)\n",
    "\n",
    "# Save the cleaned DataFrame to CSV\n",
    "output_path = r'C:\\Users\\manis\\OneDrive\\Desktop\\UofT PhD Courses\\Fall 2024\\CME538H1 F LEC0101_Data_Scn_CIVMIN\\Big Project\\Project - Safe and affodable housing\\Data\\Housing data\\New_Vancouver_house data\\vancouver_postal_codes.csv'\n",
    "cleaned_df.to_csv(output_path, index=False)\n",
    "print(f\"Data saved to {output_path}\")"
   ]
  },
  {
   "cell_type": "markdown",
   "id": "619dcc5a-9f85-45af-b8d1-7ce49fe5b79c",
   "metadata": {},
   "source": [
    "# Remove dublicates and not assigned neighbohoods Toronto"
   ]
  },
  {
   "cell_type": "code",
   "execution_count": null,
   "id": "38966d67-4141-45f8-b101-073cb1dfb4a9",
   "metadata": {},
   "outputs": [],
   "source": [
    "import pandas as pd\n",
    "import numpy as np\n",
    "\n",
    "# Load the CSV file into a DataFrame\n",
    "df = pd.read_csv(r'C:\\Users\\manis\\OneDrive\\Desktop\\UofT PhD Courses\\Fall 2024\\CME538H1 F LEC0101_Data_Scn_CIVMIN\\Big Project\\Project - Safe and affodable housing\\Data\\Housing data\\New_Toronto_house data\\toronto_postal_codes.csv')\n",
    "\n",
    "# Dropping the rows where Borough is 'Not assigned'\n",
    "df1 = df[df.Region != 'Not assigned']\n",
    "\n",
    "# Combining the neighbourhoods with the same Postalcode\n",
    "df2 = df1.groupby(['Postal Code','Region'], sort=False).agg(', '.join)\n",
    "df2.reset_index(inplace=True)\n",
    "\n",
    "# Replacing the name of the neighbourhoods which are 'Not assigned' with names of Borough\n",
    "df2['Neighbourhood'] = np.where(df2['Neighbourhood'] == 'Not assigned', df2['Region'], df2['Neighbourhood'])\n",
    "\n",
    "# Saving df2 to a CSV file\n",
    "df2.to_csv(r'C:\\Users\\manis\\OneDrive\\Desktop\\UofT PhD Courses\\Fall 2024\\CME538H1 F LEC0101_Data_Scn_CIVMIN\\Big Project\\Project - Safe and affodable housing\\Data\\Housing data\\New_Toronto_house data\\Cleaned_toronto_postal_codes.csv', index=False)\n"
   ]
  },
  {
   "cell_type": "markdown",
   "id": "ae420c59-f7f7-48a8-a683-2f8a5fc3ea6b",
   "metadata": {},
   "source": [
    "# Remove dublicates and not assigned neighbohoods Vancouver"
   ]
  },
  {
   "cell_type": "code",
   "execution_count": 89,
   "id": "554f8cc5-a9a1-44e6-80e1-1266da516c66",
   "metadata": {},
   "outputs": [],
   "source": [
    "import pandas as pd\n",
    "import numpy as np\n",
    "\n",
    "# Load the CSV file into a DataFrame\n",
    "df = pd.read_csv(r'C:\\Users\\manis\\OneDrive\\Desktop\\UofT PhD Courses\\Fall 2024\\CME538H1 F LEC0101_Data_Scn_CIVMIN\\Big Project\\Project - Safe and affodable housing\\Data\\Housing data\\New_Vancouver_house data\\vancouver_postal_codes.csv')\n",
    "\n",
    "# Dropping the rows where Borough is 'Not assigned'\n",
    "df1 = df[df.Region != 'Not assigned']\n",
    "\n",
    "# Combining the neighbourhoods with the same Postalcode\n",
    "df2 = df1.groupby(['Postal Code','Region'], sort=False).agg(', '.join)\n",
    "df2.reset_index(inplace=True)\n",
    "\n",
    "# Replacing the name of the neighbourhoods which are 'Not assigned' with names of Borough\n",
    "df2['Neighborhood'] = np.where(df2['Neighborhood'] == 'Not assigned', df2['Region'], df2['Neighborhood'])\n",
    "\n",
    "# Saving df2 to a CSV file\n",
    "df2.to_csv(r'C:\\Users\\manis\\OneDrive\\Desktop\\UofT PhD Courses\\Fall 2024\\CME538H1 F LEC0101_Data_Scn_CIVMIN\\Big Project\\Project - Safe and affodable housing\\Data\\Housing data\\New_Vancouver_house data\\Cleaned_vancouver_postal_codes.csv', index=False)\n"
   ]
  },
  {
   "cell_type": "markdown",
   "id": "80a732ad-5487-4b6f-a22c-0a342fcf286e",
   "metadata": {},
   "source": [
    "# Scraping the Wikipedia page for the table of postal codes of Canada\n",
    "*BeautifulSoup Library of Python is used for web scraping of table from the Wikipedia. The title of the webpage is printed to check if the page has been scraped successfully or not. Then the table of postal codes of Canada is printed.*"
   ]
  },
  {
   "cell_type": "markdown",
   "id": "74e6648c-ab82-47ea-afec-a683f211c539",
   "metadata": {},
   "source": [
    "           ####################################### Code can end here ##############################################"
   ]
  }
 ],
 "metadata": {
  "kernelspec": {
   "display_name": "Python 3 (ipykernel)",
   "language": "python",
   "name": "python3"
  },
  "language_info": {
   "codemirror_mode": {
    "name": "ipython",
    "version": 3
   },
   "file_extension": ".py",
   "mimetype": "text/x-python",
   "name": "python",
   "nbconvert_exporter": "python",
   "pygments_lexer": "ipython3",
   "version": "3.12.4"
  }
 },
 "nbformat": 4,
 "nbformat_minor": 5
}
